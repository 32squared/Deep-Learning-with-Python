{
 "cells": [
  {
   "cell_type": "code",
   "execution_count": 1,
   "metadata": {
    "ExecuteTime": {
     "end_time": "2019-01-16T06:47:02.136916Z",
     "start_time": "2019-01-16T06:47:00.489310Z"
    }
   },
   "outputs": [
    {
     "name": "stderr",
     "output_type": "stream",
     "text": [
      "Using TensorFlow backend.\n"
     ]
    },
    {
     "data": {
      "text/plain": [
       "'2.2.4'"
      ]
     },
     "execution_count": 1,
     "metadata": {},
     "output_type": "execute_result"
    }
   ],
   "source": [
    "import keras\n",
    "\n",
    "keras.__version__"
   ]
  },
  {
   "cell_type": "markdown",
   "metadata": {
    "toc": true
   },
   "source": [
    "<h1>Table of Contents<span class=\"tocSkip\"></span></h1>\n",
    "<div class=\"toc\"><ul class=\"toc-item\"><li><span><a href=\"#8.5-적대적-생성-신경망(GAN)-소개\" data-toc-modified-id=\"8.5-적대적-생성-신경망(GAN)-소개-1\">8.5 적대적 생성 신경망(GAN) 소개</a></span><ul class=\"toc-item\"><li><span><a href=\"#8.5.1-GAN-구현-방법\" data-toc-modified-id=\"8.5.1-GAN-구현-방법-1.1\">8.5.1 GAN 구현 방법</a></span></li><li><span><a href=\"#8.5.2-훈련-방법\" data-toc-modified-id=\"8.5.2-훈련-방법-1.2\">8.5.2 훈련 방법</a></span></li><li><span><a href=\"#8.5.3-생성자(Generator)\" data-toc-modified-id=\"8.5.3-생성자(Generator)-1.3\">8.5.3 생성자(Generator)</a></span></li><li><span><a href=\"#8.5.4-판별자(Discriminator)\" data-toc-modified-id=\"8.5.4-판별자(Discriminator)-1.4\">8.5.4 판별자(Discriminator)</a></span></li><li><span><a href=\"#8.5.5-GAN\" data-toc-modified-id=\"8.5.5-GAN-1.5\">8.5.5 GAN</a></span></li><li><span><a href=\"#8.5.6-DCGAN-훈련방법\" data-toc-modified-id=\"8.5.6-DCGAN-훈련방법-1.6\">8.5.6 DCGAN 훈련방법</a></span></li><li><span><a href=\"#8.5.7-정리\" data-toc-modified-id=\"8.5.7-정리-1.7\">8.5.7 정리</a></span></li></ul></li></ul></div>"
   ]
  },
  {
   "cell_type": "markdown",
   "metadata": {},
   "source": [
    "## 8.5 적대적 생성 신경망(GAN) 소개\n",
    "\n",
    "\n",
    "- **GAN**은 VAE와 다른 방법으로 이미지의 잠재공간(latent space)을 학습한다.\n",
    "- GAN은 생성된 이미지가 실제 이미지와 통계적으로 거의 구분이 되지 않도록 강제하여 실제 같은 합성 이미지를 생성한다.\n",
    "- GAN은 두 개의 네트워크를 가지는데, 다음과 같다.\n",
    "    - **generator network**: 랜덤 벡터(잠재 공간의 무작위한 포인트)를 입력으로 받아 이를 합성된 이미디로 디코딩한다.\n",
    "    - **discriminator network**: 이미지(실제 또는 합성)를 입력으로 받아 훈련세트에서 온 이미지인지, generator에서 만든 이미지인지 판별한다.\n",
    "    \n",
    "\n",
    "![](./images/gan01.png)"
   ]
  },
  {
   "cell_type": "markdown",
   "metadata": {},
   "source": [
    " "
   ]
  },
  {
   "cell_type": "markdown",
   "metadata": {},
   "source": [
    "- generator는 discriminator를 속이도록 훈련한다.\n",
    "- 훈련이 계속 될수록 점점 더 실제와 같은 이지를 생성하게 된다.\n",
    "- VAE와 달리 GAN의 잠재공간은 연속적이지 않으며, 의미있는 구조를 보장하지 않는다.\n",
    "\n",
    "![](./images/gan02.png)"
   ]
  },
  {
   "cell_type": "markdown",
   "metadata": {},
   "source": [
    "- GAN은 손실함수의 최소값을 찾는 최적화 과정이 아니라 두 네트워크(generator, discriminator)간의 평형점을 찾는 과정이라 할 수 있다."
   ]
  },
  {
   "cell_type": "markdown",
   "metadata": {},
   "source": [
    " "
   ]
  },
  {
   "cell_type": "markdown",
   "metadata": {},
   "source": [
    "### 8.5.1 GAN 구현 방법\n",
    "\n",
    "이 절에서는 케라스에서 가장 기본적인 형태의 GAN을 구현하는 방법을 설명하겠습니다. GAN은 수준 높은 기술이기 때문에 기술적인 내용을 깊이 설명하는 것은 이 책의 범위를 벗어납니다. \n",
    "\n",
    "구체적인 구현은 **심층 합성곱 GAN(DCGAN)**입니다. 생성자와 판별자가 **심층 컨브넷**입니다. 특히 생성자에서 이미지 업샘플링을 위해 `Conv2DTranspose` 층을 사용합니다.\n",
    "\n",
    "CIFAR10 데이터셋의 이미지로 GAN을 훈련하겠습니다. 이 데이터셋은 `32 × 32` 크기의 RGB 이미지 50,000개로 이루어져 있고 10개의 클래스를 가집니다(클래스마다 5,000개의 이미지가 있습니다). 문제를 간단하게 만들기 위해 “frog” 클래스의 이미지만 사용하겠습니다.\n",
    "\n",
    "![](./images/dcgan.png)"
   ]
  },
  {
   "cell_type": "markdown",
   "metadata": {},
   "source": [
    "GAN 구조는 다음과 같습니다:\n",
    "\n",
    "1. `generator` 네트워크는 `(latent_dim,)` 크기의 벡터를 `(32, 32, 3)` 크기의 이미지로 매핑합니다.\n",
    "2. `discriminator` 네트워크는 `(32, 32, 3)` 크기의 이미지가 진짜일 확률을 추정하여 이진 값으로 매핑합니다.\n",
    "3. 생성자와 판별자를 연결하는 `gan` 네트워크를 만듭니다. `gan(x) = discriminator(generator(x))` 입니다. 이 `gan` 네트워크는 잠재 공간의 벡터를 판별자의 평가로 매핑합니다. 판별자는 생성자가 잠재 공간의 벡터를 디코딩한 것이 얼마나 현실적인지를 평가합니다.\n",
    "4. 진짜\"/”가짜\" 레이블과 함께 진짜 이미지와 가짜 이미지 샘플을 사용해 판별자를 훈련합니다. 일반적인 이미지 분류 모델을 훈련하는 것과 동일합니다.\n",
    "5. 생성자를 훈련하려면 `gan` 모델의 손실에 대한 생성자 가중치의 그래디언트를 사용합니다. 이 말은 매 단계마다 생성자에 의해 디코딩된 이미지를 판별자가 “진짜\"로 분류하도록 만드는 방향으로 생성자의 가중치를 이동한다는 뜻입니다. 다른 말로하면 판별자를 속이도록 생성자를 훈련합니다."
   ]
  },
  {
   "cell_type": "markdown",
   "metadata": {},
   "source": [
    " "
   ]
  },
  {
   "cell_type": "markdown",
   "metadata": {},
   "source": [
    "### 8.5.2 훈련 방법\n",
    "\n",
    "GAN을 훈련하고 튜닝하는 과정은 어렵기로 유명합니다. 알아두어야 할 몇 가지 유용한 기법이 있습니다. 딥러닝의 대부분이 그렇듯이 이는 과학보다는 연금술에 가깝습니다. 이런 기법들은 이론에 바탕을 둔 지침이 아니고 경험을 통해 발견된 것입니다. 실제 일어난 현상을 직관적으로 이해하는 수준에서 검증되었습니다. 모든 문제에 반드시 적용해야 것은 아니지만 경험상 잘 작동한다고 알려져 있습니다.\n",
    "\n",
    "다음은 이 절에서 GAN 생성자와 판별자를 구현하는 데 사용할 몇 가지 기법입니다. 이 목록이 GAN에 관련된 전체 팁이 아닙니다. GAN 논문들에서 더 많은 방법을 볼 수 있습니다.\n",
    "\n",
    "- 생성자의 마지막 활성화로 다른 종류의 모델에서 널리 사용하는 `sigmoid` 대신 `tanh` 함수를 사용합니다.\n",
    "- 균등 분포가 아니고 정규 분포(가우시안 분포)를 사용하여 잠재 공간에서 포인트를 샘플링합니다.\n",
    "- **무작위성은 모델을 견고하게 만듭니다**. GAN 훈련은 동적 평형을 만들기 때문에 여러 방식으로 갇힐 가능성이 높습니다. 훈련하는 동안 무작위성을 주입하면 이를 방지하는 데 도움이 됩니다. 무작위성은 두 가지 방법으로 주입합니다. **판별자에 드롭아웃**을 사용하거나 **판별자를 위해 레이블에 랜덤 노이즈를 추가**합니다.\n",
    "- 희소한 그래디언트는 GAN 훈련을 방해할 수 있습니다. 딥러닝에서 희소는 종종 바람직한 현상이지만 GAN에서는 그렇지 않습니다. 그래디언트를 희소하게 만들 수 있는 것은 최대 풀링 연산과 ReLU 활성화 두 가지입니다. 최대 풀링 대신 스트라이드 합성곱을 사용해 다운샘플링을 하는 것이 좋습니다. 또 ReLU 활성화 대신 LeakyReLU 층을 사용하세요. ReLU와 비슷하지만 음수의 활성화 값을 조금 허용하기 때문에 희소가 조금 완화됩니다.\n",
    "- 생성자에서 픽셀 공간을 균일하게 다루지 못해 생성된 이미지에서 체스판 모양이 종종 나타납니다(그림 8-17 참조). 이를 해결하기 위해 생성자와 판별자에서 스트라이드 `Conv2DTranpose`나 `Conv2D`를 사용할 때 스트라이드 크기로 나누어질 수 있는 커널 크기를 사용합니다."
   ]
  },
  {
   "cell_type": "markdown",
   "metadata": {},
   "source": [
    " "
   ]
  },
  {
   "cell_type": "markdown",
   "metadata": {},
   "source": [
    "### 8.5.3 생성자(Generator)\n",
    "\n",
    "먼저 벡터(훈련하는 동안 잠재 공간에서 무작위로 샘플링됩니다)를 후보 이미지로 변환하는 `generator` 모델을 만들어 보죠. \n",
    "- GAN에서 발생하는 많은 문제 중 하나는 생성자가 노이즈 같은 이미지를 생성하는 데서 멈추는 것입니다. \n",
    "- 판별자와 생성자 양쪽에 모두 드롭아웃을 사용하는 것이 해결 방법이 될 수 있습니다."
   ]
  },
  {
   "cell_type": "code",
   "execution_count": 1,
   "metadata": {
    "ExecuteTime": {
     "end_time": "2019-01-16T07:39:43.580172Z",
     "start_time": "2019-01-16T07:39:41.910296Z"
    }
   },
   "outputs": [
    {
     "name": "stderr",
     "output_type": "stream",
     "text": [
      "Using TensorFlow backend.\n"
     ]
    }
   ],
   "source": [
    "import keras\n",
    "import numpy as np\n",
    "from keras import layers, models"
   ]
  },
  {
   "cell_type": "code",
   "execution_count": 2,
   "metadata": {
    "ExecuteTime": {
     "end_time": "2019-01-16T07:39:43.733346Z",
     "start_time": "2019-01-16T07:39:43.621645Z"
    }
   },
   "outputs": [
    {
     "name": "stdout",
     "output_type": "stream",
     "text": [
      "_________________________________________________________________\n",
      "Layer (type)                 Output Shape              Param #   \n",
      "=================================================================\n",
      "input_1 (InputLayer)         (None, 32)                0         \n",
      "_________________________________________________________________\n",
      "dense_1 (Dense)              (None, 32768)             1081344   \n",
      "_________________________________________________________________\n",
      "leaky_re_lu_1 (LeakyReLU)    (None, 32768)             0         \n",
      "_________________________________________________________________\n",
      "reshape_1 (Reshape)          (None, 16, 16, 128)       0         \n",
      "_________________________________________________________________\n",
      "conv2d_1 (Conv2D)            (None, 16, 16, 256)       819456    \n",
      "_________________________________________________________________\n",
      "leaky_re_lu_2 (LeakyReLU)    (None, 16, 16, 256)       0         \n",
      "_________________________________________________________________\n",
      "conv2d_transpose_1 (Conv2DTr (None, 32, 32, 256)       1048832   \n",
      "_________________________________________________________________\n",
      "leaky_re_lu_3 (LeakyReLU)    (None, 32, 32, 256)       0         \n",
      "_________________________________________________________________\n",
      "conv2d_2 (Conv2D)            (None, 32, 32, 256)       1638656   \n",
      "_________________________________________________________________\n",
      "leaky_re_lu_4 (LeakyReLU)    (None, 32, 32, 256)       0         \n",
      "_________________________________________________________________\n",
      "conv2d_3 (Conv2D)            (None, 32, 32, 256)       1638656   \n",
      "_________________________________________________________________\n",
      "leaky_re_lu_5 (LeakyReLU)    (None, 32, 32, 256)       0         \n",
      "_________________________________________________________________\n",
      "conv2d_4 (Conv2D)            (None, 32, 32, 3)         37635     \n",
      "=================================================================\n",
      "Total params: 6,264,579\n",
      "Trainable params: 6,264,579\n",
      "Non-trainable params: 0\n",
      "_________________________________________________________________\n"
     ]
    }
   ],
   "source": [
    "latent_dim = 32\n",
    "height = 32\n",
    "width = 32\n",
    "channels = 3\n",
    "\n",
    "generator_input = keras.Input(shape=(latent_dim,))\n",
    "\n",
    "# 입력을 16 x 16 크기의 128개 채널을 가진 특성 맵으로 변환한다.\n",
    "x = layers.Dense(128 * 16 * 16)(generator_input)\n",
    "x = layers.LeakyReLU()(x)\n",
    "x = layers.Reshape((16, 16, 128))(x)\n",
    "\n",
    "# 합성곱 층을 추가\n",
    "x = layers.Conv2D(256, 5, padding='same')(x)\n",
    "x = layers.LeakyReLU()(x)\n",
    "\n",
    "# 32 × 32 크기로 업샘플링합니다\n",
    "x = layers.Conv2DTranspose(256, 4, strides=2, padding='same')(x)\n",
    "x = layers.LeakyReLU()(x)\n",
    "\n",
    "# 합성곱 층을 더 추가한다.\n",
    "x = layers.Conv2D(256, 5, padding='same')(x)\n",
    "x = layers.LeakyReLU()(x)\n",
    "x = layers.Conv2D(256, 5, padding='same')(x)\n",
    "x = layers.LeakyReLU()(x)\n",
    "\n",
    "# 32 x 32 크기의 3개 채널을 가진 특성 맵을 생성한다.\n",
    "x = layers.Conv2D(channels, 7, activation='tanh', padding='same')(x)\n",
    "generator = models.Model(generator_input, x, name='generator')\n",
    "generator.summary()"
   ]
  },
  {
   "cell_type": "code",
   "execution_count": 3,
   "metadata": {
    "ExecuteTime": {
     "end_time": "2019-01-16T07:39:43.779247Z",
     "start_time": "2019-01-16T07:39:43.775233Z"
    },
    "code_folding": []
   },
   "outputs": [],
   "source": [
    "# from IPython.display import Image\n",
    "# from keras.utils import plot_model\n",
    "\n",
    "# plot_model(generator, to_file='./plot-model/dcgan-generator.png')\n",
    "# Image(filename='./plot-model/dcgan-generator.png')"
   ]
  },
  {
   "cell_type": "markdown",
   "metadata": {},
   "source": [
    " "
   ]
  },
  {
   "cell_type": "markdown",
   "metadata": {},
   "source": [
    "### 8.5.4 판별자(Discriminator)\n",
    "\n",
    "다음은 후보 이미지(진짜 혹은 가짜)를 입력으로 받고 두 개의 클래스로 분류하는 `discriminator` 모델을 만들겠습니다. 이 클래스는 '생성된 이미지' 또는 '훈련 세트에서 온 진짜 이미지'입니다."
   ]
  },
  {
   "cell_type": "code",
   "execution_count": 4,
   "metadata": {
    "ExecuteTime": {
     "end_time": "2019-01-16T07:39:43.950764Z",
     "start_time": "2019-01-16T07:39:43.819116Z"
    }
   },
   "outputs": [
    {
     "name": "stdout",
     "output_type": "stream",
     "text": [
      "_________________________________________________________________\n",
      "Layer (type)                 Output Shape              Param #   \n",
      "=================================================================\n",
      "input_2 (InputLayer)         (None, 32, 32, 3)         0         \n",
      "_________________________________________________________________\n",
      "conv2d_5 (Conv2D)            (None, 30, 30, 128)       3584      \n",
      "_________________________________________________________________\n",
      "leaky_re_lu_6 (LeakyReLU)    (None, 30, 30, 128)       0         \n",
      "_________________________________________________________________\n",
      "conv2d_6 (Conv2D)            (None, 14, 14, 128)       262272    \n",
      "_________________________________________________________________\n",
      "leaky_re_lu_7 (LeakyReLU)    (None, 14, 14, 128)       0         \n",
      "_________________________________________________________________\n",
      "conv2d_7 (Conv2D)            (None, 6, 6, 128)         262272    \n",
      "_________________________________________________________________\n",
      "leaky_re_lu_8 (LeakyReLU)    (None, 6, 6, 128)         0         \n",
      "_________________________________________________________________\n",
      "conv2d_8 (Conv2D)            (None, 2, 2, 128)         262272    \n",
      "_________________________________________________________________\n",
      "leaky_re_lu_9 (LeakyReLU)    (None, 2, 2, 128)         0         \n",
      "_________________________________________________________________\n",
      "flatten_1 (Flatten)          (None, 512)               0         \n",
      "_________________________________________________________________\n",
      "dropout_1 (Dropout)          (None, 512)               0         \n",
      "_________________________________________________________________\n",
      "dense_2 (Dense)              (None, 1)                 513       \n",
      "=================================================================\n",
      "Total params: 790,913\n",
      "Trainable params: 790,913\n",
      "Non-trainable params: 0\n",
      "_________________________________________________________________\n"
     ]
    }
   ],
   "source": [
    "discriminator_input = layers.Input(shape=(height, width, channels))\n",
    "x = layers.Conv2D(128, 3)(discriminator_input)\n",
    "x = layers.LeakyReLU()(x)\n",
    "x = layers.Conv2D(128, 4, strides=2)(x)\n",
    "x = layers.LeakyReLU()(x)\n",
    "x = layers.Conv2D(128, 4, strides=2)(x)\n",
    "x = layers.LeakyReLU()(x)\n",
    "x = layers.Conv2D(128, 4, strides=2)(x)\n",
    "x = layers.LeakyReLU()(x)\n",
    "x = layers.Flatten()(x)\n",
    "\n",
    "# 드롭아웃 층을 넣는 것이 중요하다!\n",
    "x = layers.Dropout(0.4)(x)\n",
    "\n",
    "# 분류 층\n",
    "x = layers.Dense(1, activation='sigmoid')(x)\n",
    "\n",
    "discriminator = models.Model(discriminator_input, x, name='disrciminator')\n",
    "discriminator.summary()\n",
    "\n",
    "# 옵티마이저에서 (값을 지정하여) 그래디언트 클리핑을 사용한다.\n",
    "# 안정된 훈련을 위해서 학습률 감쇠(learning rate decay)를 사용한다.\n",
    "discriminator_optimizer = keras.optimizers.RMSprop(lr=0.0008, \n",
    "                                                   clipvalue=1.0,\n",
    "                                                   decay=1e-8)\n",
    "discriminator.compile(optimizer=discriminator_optimizer,\n",
    "                      loss='binary_crossentropy')"
   ]
  },
  {
   "cell_type": "code",
   "execution_count": 5,
   "metadata": {
    "ExecuteTime": {
     "end_time": "2019-01-16T07:39:43.991673Z",
     "start_time": "2019-01-16T07:39:43.988663Z"
    }
   },
   "outputs": [],
   "source": [
    "# from IPython.display import Image\n",
    "# from keras.utils import plot_model\n",
    "\n",
    "# plot_model(discriminator, to_file='./plot-model/dcgan-discriminator.png')\n",
    "# Image(filename='./plot-model/dcgan-discriminator.png')"
   ]
  },
  {
   "cell_type": "markdown",
   "metadata": {},
   "source": [
    " "
   ]
  },
  {
   "cell_type": "markdown",
   "metadata": {},
   "source": [
    "### 8.5.5 GAN\n",
    "\n",
    "마지막으로 생성자와 판별자를 연결하여 GAN을 설정합니다. \n",
    "- 훈련할 때 생성자가 판별자를 속이는 능력이 커지도록 학습합니다. \n",
    "- 이 모델은 잠재 공간의 포인트를 “진짜\" 또는 “가짜\"의 분류 결정으로 변환합니다. \n",
    "- 훈련에 사용되는 타깃 레이블은 항상 '진짜 이미지'입니다. \n",
    "- gan을 훈련하는 것은 `discriminator`가 가짜 이미지를 보았을 때 진짜라고 예측하도록 만들기 위해 `generator`의 가중치를 업데이트하는 것입니다. \n",
    "- **훈련하는 동안 판별자를 동결(학습되지 않도록)하는 것이 아주 중요**합니다. \n",
    "    - gan을 훈련할 때 가중치가 업데이트되지 않습니다. 판별자의 가중치가 훈련하는 동안 업데이트되면 판별자는 항상 “진짜\"를 예측하도록 훈련됩니다. 이것이 우리가 원하는 바는 아니죠!"
   ]
  },
  {
   "cell_type": "code",
   "execution_count": 6,
   "metadata": {
    "ExecuteTime": {
     "end_time": "2019-01-16T07:39:44.707498Z",
     "start_time": "2019-01-16T07:39:44.597473Z"
    },
    "scrolled": false
   },
   "outputs": [
    {
     "name": "stdout",
     "output_type": "stream",
     "text": [
      "_________________________________________________________________\n",
      "Layer (type)                 Output Shape              Param #   \n",
      "=================================================================\n",
      "input_3 (InputLayer)         (None, 32)                0         \n",
      "_________________________________________________________________\n",
      "generator (Model)            (None, 32, 32, 3)         6264579   \n",
      "_________________________________________________________________\n",
      "disrciminator (Model)        (None, 1)                 790913    \n",
      "=================================================================\n",
      "Total params: 7,055,492\n",
      "Trainable params: 6,264,579\n",
      "Non-trainable params: 790,913\n",
      "_________________________________________________________________\n"
     ]
    }
   ],
   "source": [
    "# 판별자의 가중치가 훈련된지 않도록 설정한다.(gan 모델에만 적용)\n",
    "discriminator.trainable = False\n",
    "\n",
    "gan_input = keras.Input(shape=(latent_dim,))\n",
    "gan_output = discriminator(generator(gan_input))\n",
    "gan = models.Model(gan_input, gan_output, name='gan')\n",
    "gan.summary()\n",
    "\n",
    "gan_optimizer = keras.optimizers.RMSprop(lr=0.0004, clipvalue=1.0, decay=1e-8)\n",
    "gan.compile(optimizer=gan_optimizer, loss='binary_crossentropy')"
   ]
  },
  {
   "cell_type": "code",
   "execution_count": 7,
   "metadata": {
    "ExecuteTime": {
     "end_time": "2019-01-16T07:39:45.233336Z",
     "start_time": "2019-01-16T07:39:45.230316Z"
    }
   },
   "outputs": [],
   "source": [
    "# from IPython.display import Image\n",
    "# from keras.utils import plot_model\n",
    "\n",
    "# plot_model(gan, to_file='./plot-model/dcgan.png')\n",
    "# Image(filename='./plot-model/dcgan.png')"
   ]
  },
  {
   "cell_type": "markdown",
   "metadata": {},
   "source": [
    " "
   ]
  },
  {
   "cell_type": "markdown",
   "metadata": {},
   "source": [
    "### 8.5.6 DCGAN 훈련방법\n",
    "\n",
    "이제 훈련을 시작합니다. 훈련 반복의 내용을 요약 정리해 보겠습니다.\n",
    "\n",
    "매 반복마다 다음을 수행합니다:\n",
    "\n",
    "1. 잠재 공간에서 무작위로 포인트를 뽑습니다(랜덤 노이즈).\n",
    "2. 이 랜덤 노이즈를 사용해 `generator`에서 이미지를 생성합니다.\n",
    "3. 생성된 이미지와 진짜 이미지를 섞습니다.\n",
    "4. 진짜와 가짜가 섞인 이미지와 이에 대응하는 타깃을 사용해 `discriminator`를 훈련합니다. 타깃은 “진짜\"(실제 이미지일 경우) 또는 “가짜\"(생성된 이미지일 경우)입니다.\n",
    "5. 잠재 공간에서 무작위로 새로운 포인트를 뽑습니다.\n",
    "6. 이 랜덤 벡터를 사용해 `gan`을 훈련합니다. 모든 타깃은 “진짜\"로 설정합니다. 판별자가 생성된 이미지를 모두 “진짜 이미지\"라고 예측하도록 생성자의 가중치를 업데이트합니다(`gan` 안에서 판별자는 동결되기 때문에 생성자만 업데이트합니다). 결국 생성자는 판별자를 속이도록 훈련합니다."
   ]
  },
  {
   "cell_type": "code",
   "execution_count": 8,
   "metadata": {
    "ExecuteTime": {
     "end_time": "2019-01-16T07:39:46.025024Z",
     "start_time": "2019-01-16T07:39:46.022022Z"
    }
   },
   "outputs": [],
   "source": [
    "import os \n",
    "from keras.preprocessing import image"
   ]
  },
  {
   "cell_type": "code",
   "execution_count": 9,
   "metadata": {
    "ExecuteTime": {
     "end_time": "2019-01-16T07:39:46.812288Z",
     "start_time": "2019-01-16T07:39:46.501701Z"
    }
   },
   "outputs": [
    {
     "data": {
      "text/plain": [
       "(50000, 32, 32, 3)"
      ]
     },
     "execution_count": 9,
     "metadata": {},
     "output_type": "execute_result"
    }
   ],
   "source": [
    "# CIFAR10 데이터를 로드한다.\n",
    "(x_train, y_train), (_, _) = keras.datasets.cifar10.load_data()\n",
    "x_train.shape"
   ]
  },
  {
   "cell_type": "code",
   "execution_count": 10,
   "metadata": {
    "ExecuteTime": {
     "end_time": "2019-01-16T07:51:03.639135Z",
     "start_time": "2019-01-16T07:39:46.870134Z"
    },
    "scrolled": false
   },
   "outputs": [
    {
     "name": "stderr",
     "output_type": "stream",
     "text": [
      "F:\\miniconda3\\envs\\tensorflow\\lib\\site-packages\\keras\\engine\\training.py:490: UserWarning: Discrepancy between trainable weights and collected trainable weights, did you set `model.trainable` without calling `model.compile` after ?\n",
      "  'Discrepancy between trainable weights and collected trainable'\n"
     ]
    },
    {
     "name": "stdout",
     "output_type": "stream",
     "text": [
      "스텝 0에서 판별자 손실: 0.68601674\n",
      "스텝 0에서 적대적 손실: 0.6835162\n",
      "스텝 100에서 판별자 손실: 0.67390424\n",
      "스텝 100에서 적대적 손실: 0.9120716\n",
      "스텝 200에서 판별자 손실: 0.682351\n",
      "스텝 200에서 적대적 손실: 0.74963367\n",
      "스텝 300에서 판별자 손실: 0.71728134\n",
      "스텝 300에서 적대적 손실: 0.7820779\n",
      "스텝 400에서 판별자 손실: 1.072718\n",
      "스텝 400에서 적대적 손실: 0.7614701\n",
      "스텝 500에서 판별자 손실: 0.69702214\n",
      "스텝 500에서 적대적 손실: 0.7845014\n",
      "스텝 600에서 판별자 손실: 0.70103854\n",
      "스텝 600에서 적대적 손실: 0.8046153\n",
      "스텝 700에서 판별자 손실: 0.70623535\n",
      "스텝 700에서 적대적 손실: 0.8121726\n",
      "스텝 800에서 판별자 손실: 0.6981317\n",
      "스텝 800에서 적대적 손실: 0.74482346\n",
      "스텝 900에서 판별자 손실: 0.7002711\n",
      "스텝 900에서 적대적 손실: 0.7584585\n",
      "스텝 1000에서 판별자 손실: 0.72050464\n",
      "스텝 1000에서 적대적 손실: 0.7215841\n",
      "스텝 1100에서 판별자 손실: 0.6937747\n",
      "스텝 1100에서 적대적 손실: 1.040402\n",
      "스텝 1200에서 판별자 손실: 0.7119692\n",
      "스텝 1200에서 적대적 손실: 0.7712651\n",
      "스텝 1300에서 판별자 손실: 0.7051045\n",
      "스텝 1300에서 적대적 손실: 0.7379454\n",
      "스텝 1400에서 판별자 손실: 0.69827664\n",
      "스텝 1400에서 적대적 손실: 0.7500836\n",
      "스텝 1500에서 판별자 손실: 0.689908\n",
      "스텝 1500에서 적대적 손실: 0.753253\n",
      "스텝 1600에서 판별자 손실: 0.6886414\n",
      "스텝 1600에서 적대적 손실: 0.74378157\n",
      "스텝 1700에서 판별자 손실: 0.6929329\n",
      "스텝 1700에서 적대적 손실: 0.7556578\n",
      "스텝 1800에서 판별자 손실: 0.68340015\n",
      "스텝 1800에서 적대적 손실: 0.75282776\n",
      "스텝 1900에서 판별자 손실: 0.68909776\n",
      "스텝 1900에서 적대적 손실: 0.7723493\n",
      "스텝 2000에서 판별자 손실: 0.6932837\n",
      "스텝 2000에서 적대적 손실: 0.752843\n",
      "스텝 2100에서 판별자 손실: 0.6910658\n",
      "스텝 2100에서 적대적 손실: 0.72079855\n",
      "스텝 2200에서 판별자 손실: 0.69092256\n",
      "스텝 2200에서 적대적 손실: 0.7537908\n",
      "스텝 2300에서 판별자 손실: 0.68742\n",
      "스텝 2300에서 적대적 손실: 0.7047687\n",
      "스텝 2400에서 판별자 손실: 0.7040306\n",
      "스텝 2400에서 적대적 손실: 0.7577661\n",
      "스텝 2500에서 판별자 손실: 0.6849538\n",
      "스텝 2500에서 적대적 손실: 0.6936374\n",
      "스텝 2600에서 판별자 손실: 0.69030607\n",
      "스텝 2600에서 적대적 손실: 0.7407511\n",
      "스텝 2700에서 판별자 손실: 0.7030345\n",
      "스텝 2700에서 적대적 손실: 0.7756087\n",
      "스텝 2800에서 판별자 손실: 0.69216764\n",
      "스텝 2800에서 적대적 손실: 0.7854206\n",
      "스텝 2900에서 판별자 손실: 0.6818658\n",
      "스텝 2900에서 적대적 손실: 0.757054\n",
      "스텝 3000에서 판별자 손실: 0.7065919\n",
      "스텝 3000에서 적대적 손실: 0.7281343\n",
      "스텝 3100에서 판별자 손실: 0.6966852\n",
      "스텝 3100에서 적대적 손실: 0.7325026\n",
      "스텝 3200에서 판별자 손실: 0.6842941\n",
      "스텝 3200에서 적대적 손실: 0.75666237\n",
      "스텝 3300에서 판별자 손실: 0.70457727\n",
      "스텝 3300에서 적대적 손실: 1.7086155\n",
      "스텝 3400에서 판별자 손실: 0.8639458\n",
      "스텝 3400에서 적대적 손실: 0.7006148\n",
      "스텝 3500에서 판별자 손실: 0.6895542\n",
      "스텝 3500에서 적대적 손실: 0.7512391\n",
      "스텝 3600에서 판별자 손실: 0.75347596\n",
      "스텝 3600에서 적대적 손실: 0.8148735\n",
      "스텝 3700에서 판별자 손실: 0.6991471\n",
      "스텝 3700에서 적대적 손실: 0.76750314\n",
      "스텝 3800에서 판별자 손실: 0.6948668\n",
      "스텝 3800에서 적대적 손실: 0.75961435\n",
      "스텝 3900에서 판별자 손실: 0.69635135\n",
      "스텝 3900에서 적대적 손실: 0.72506726\n",
      "스텝 4000에서 판별자 손실: 0.7069295\n",
      "스텝 4000에서 적대적 손실: 0.74957067\n",
      "스텝 4100에서 판별자 손실: 0.68513304\n",
      "스텝 4100에서 적대적 손실: 0.7246925\n",
      "스텝 4200에서 판별자 손실: 0.7068201\n",
      "스텝 4200에서 적대적 손실: 0.74590427\n",
      "스텝 4300에서 판별자 손실: 0.68869054\n",
      "스텝 4300에서 적대적 손실: 0.7715576\n",
      "스텝 4400에서 판별자 손실: 0.7026908\n",
      "스텝 4400에서 적대적 손실: 0.75393903\n",
      "스텝 4500에서 판별자 손실: 0.7099427\n",
      "스텝 4500에서 적대적 손실: 0.72648096\n",
      "스텝 4600에서 판별자 손실: 0.68027914\n",
      "스텝 4600에서 적대적 손실: 0.68007696\n",
      "스텝 4700에서 판별자 손실: 0.6995535\n",
      "스텝 4700에서 적대적 손실: 0.6913713\n",
      "스텝 4800에서 판별자 손실: 0.69565547\n",
      "스텝 4800에서 적대적 손실: 0.74704015\n",
      "스텝 4900에서 판별자 손실: 0.693066\n",
      "스텝 4900에서 적대적 손실: 0.72618794\n",
      "스텝 5000에서 판별자 손실: 0.6915916\n",
      "스텝 5000에서 적대적 손실: 0.7173896\n",
      "스텝 5100에서 판별자 손실: 0.7019037\n",
      "스텝 5100에서 적대적 손실: 0.76350975\n",
      "스텝 5200에서 판별자 손실: 0.6893843\n",
      "스텝 5200에서 적대적 손실: 0.7106463\n",
      "스텝 5300에서 판별자 손실: 0.69292825\n",
      "스텝 5300에서 적대적 손실: 0.71718866\n",
      "스텝 5400에서 판별자 손실: 0.6846598\n",
      "스텝 5400에서 적대적 손실: 0.75124484\n",
      "스텝 5500에서 판별자 손실: 0.6982144\n",
      "스텝 5500에서 적대적 손실: 0.7984481\n",
      "스텝 5600에서 판별자 손실: 0.71562684\n",
      "스텝 5600에서 적대적 손실: 0.8123336\n",
      "스텝 5700에서 판별자 손실: 0.7010914\n",
      "스텝 5700에서 적대적 손실: 0.7629427\n",
      "스텝 5800에서 판별자 손실: 0.7020979\n",
      "스텝 5800에서 적대적 손실: 0.721138\n",
      "스텝 5900에서 판별자 손실: 0.7174891\n",
      "스텝 5900에서 적대적 손실: 0.7252099\n",
      "스텝 6000에서 판별자 손실: 0.70186126\n",
      "스텝 6000에서 적대적 손실: 0.7734362\n",
      "스텝 6100에서 판별자 손실: 0.685325\n",
      "스텝 6100에서 적대적 손실: 0.8270095\n",
      "스텝 6200에서 판별자 손실: 0.71460015\n",
      "스텝 6200에서 적대적 손실: 0.7608672\n",
      "스텝 6300에서 판별자 손실: 0.7126334\n",
      "스텝 6300에서 적대적 손실: 0.7991644\n",
      "스텝 6400에서 판별자 손실: 0.685867\n",
      "스텝 6400에서 적대적 손실: 0.7962001\n",
      "스텝 6500에서 판별자 손실: 0.66108495\n",
      "스텝 6500에서 적대적 손실: 0.7910782\n",
      "스텝 6600에서 판별자 손실: 0.69117266\n",
      "스텝 6600에서 적대적 손실: 0.9390475\n",
      "스텝 6700에서 판별자 손실: 0.70793694\n",
      "스텝 6700에서 적대적 손실: 0.8935199\n",
      "스텝 6800에서 판별자 손실: 0.6795707\n",
      "스텝 6800에서 적대적 손실: 0.87254983\n",
      "스텝 6900에서 판별자 손실: 0.6931597\n",
      "스텝 6900에서 적대적 손실: 0.7014042\n",
      "스텝 7000에서 판별자 손실: 0.6776493\n",
      "스텝 7000에서 적대적 손실: 0.8370392\n",
      "스텝 7100에서 판별자 손실: 0.72950256\n",
      "스텝 7100에서 적대적 손실: 0.7757765\n",
      "스텝 7200에서 판별자 손실: 0.7171485\n",
      "스텝 7200에서 적대적 손실: 0.8367777\n",
      "스텝 7300에서 판별자 손실: 0.67236155\n",
      "스텝 7300에서 적대적 손실: 0.76043963\n",
      "스텝 7400에서 판별자 손실: 0.7451903\n",
      "스텝 7400에서 적대적 손실: 0.9113537\n",
      "스텝 7500에서 판별자 손실: 0.77503663\n",
      "스텝 7500에서 적대적 손실: 0.9954778\n",
      "스텝 7600에서 판별자 손실: 0.7139886\n",
      "스텝 7600에서 적대적 손실: 0.7785083\n",
      "스텝 7700에서 판별자 손실: 0.70034826\n",
      "스텝 7700에서 적대적 손실: 0.7838335\n",
      "스텝 7800에서 판별자 손실: 0.6700812\n",
      "스텝 7800에서 적대적 손실: 0.73430717\n",
      "스텝 7900에서 판별자 손실: 0.6809181\n",
      "스텝 7900에서 적대적 손실: 0.66454643\n",
      "스텝 8000에서 판별자 손실: 0.6386894\n",
      "스텝 8000에서 적대적 손실: 0.7827066\n",
      "스텝 8100에서 판별자 손실: 0.68729883\n",
      "스텝 8100에서 적대적 손실: 0.9033433\n",
      "스텝 8200에서 판별자 손실: 0.7049376\n",
      "스텝 8200에서 적대적 손실: 0.8417643\n",
      "스텝 8300에서 판별자 손실: 0.6834157\n",
      "스텝 8300에서 적대적 손실: 0.83447\n",
      "스텝 8400에서 판별자 손실: 0.65875536\n",
      "스텝 8400에서 적대적 손실: 0.86840975\n",
      "스텝 8500에서 판별자 손실: 0.8190163\n",
      "스텝 8500에서 적대적 손실: 1.0803496\n",
      "스텝 8600에서 판별자 손실: 0.7015962\n",
      "스텝 8600에서 적대적 손실: 0.7530888\n",
      "스텝 8700에서 판별자 손실: 0.7206167\n",
      "스텝 8700에서 적대적 손실: 0.90499735\n",
      "스텝 8800에서 판별자 손실: 0.6846665\n",
      "스텝 8800에서 적대적 손실: 0.7460758\n",
      "스텝 8900에서 판별자 손실: 0.69831526\n",
      "스텝 8900에서 적대적 손실: 0.9936177\n",
      "스텝 9000에서 판별자 손실: 0.65205467\n",
      "스텝 9000에서 적대적 손실: 0.86586034\n",
      "스텝 9100에서 판별자 손실: 0.6896027\n",
      "스텝 9100에서 적대적 손실: 0.73684424\n",
      "스텝 9200에서 판별자 손실: 0.71189934\n",
      "스텝 9200에서 적대적 손실: 0.78532344\n",
      "스텝 9300에서 판별자 손실: 0.6841148\n",
      "스텝 9300에서 적대적 손실: 0.7977837\n",
      "스텝 9400에서 판별자 손실: 0.68260026\n",
      "스텝 9400에서 적대적 손실: 0.7339102\n",
      "스텝 9500에서 판별자 손실: 0.63828975\n",
      "스텝 9500에서 적대적 손실: 0.8417281\n",
      "스텝 9600에서 판별자 손실: 0.6857877\n",
      "스텝 9600에서 적대적 손실: 0.76417035\n",
      "스텝 9700에서 판별자 손실: 0.6901478\n",
      "스텝 9700에서 적대적 손실: 0.78188413\n",
      "스텝 9800에서 판별자 손실: 0.68782145\n",
      "스텝 9800에서 적대적 손실: 0.73708475\n",
      "스텝 9900에서 판별자 손실: 0.65890276\n",
      "스텝 9900에서 적대적 손실: 0.85583746\n"
     ]
    }
   ],
   "source": [
    "# CIFAR10 데이터를 로드한다.\n",
    "(x_train, y_train), (_, _) = keras.datasets.cifar10.load_data()\n",
    "\n",
    "# 개구리 이미지를 선택한다.(클래스 6)\n",
    "x_train = x_train[y_train.flatten() == 6]\n",
    "\n",
    "# 데이터를 정규화한다.\n",
    "x_train = x_train.reshape(  # (50000, 32, 32, 3)\n",
    "    (x_train.shape[0],) + (height, width, channels)).astype('float32')/255.\n",
    "\n",
    "iterations = 10000\n",
    "batch_size = 20\n",
    "save_dir = './gan_images/'\n",
    "if not os.path.exists(save_dir):\n",
    "    os.mkdir(save_dir)\n",
    "    \n",
    "# 훈련 반복 시작\n",
    "start = 0\n",
    "for step in range(iterations):\n",
    "    # 잠재 공간에서 무작위로 포인트를 샘플링한다.\n",
    "    random_latent_vectors = np.random.normal(size=(batch_size, latent_dim))\n",
    "    \n",
    "    # 가짜 이미지를 디코딩한다.\n",
    "    generated_images = generator.predict(random_latent_vectors)\n",
    "    \n",
    "    # 진짜 이미지와 연결한다.\n",
    "    stop = start + batch_size\n",
    "    real_images = x_train[start: stop]\n",
    "    combined_images = np.concatenate([generated_images, real_images])\n",
    "    \n",
    "    # 진짜와 가짜 이미지를 구분하여 레이블을 합친다.\n",
    "    labels = np.concatenate([np.ones((batch_size, 1)), \n",
    "                             np.zeros((batch_size, 1))])\n",
    "    # 레이블에 랜덤 노이즈를 추가한다 → 매우 중요하다!\n",
    "    labels += 0.05 * np.random.random(labels.shape)\n",
    "    \n",
    "    # discriminator를 훈련한다.\n",
    "    d_loss = discriminator.train_on_batch(combined_images, labels)\n",
    "    \n",
    "    # 잠재 공간에서 무작위로 포인트를 샘플링한다.\n",
    "    random_latent_vectors = np.random.normal(size=(batch_size, latent_dim))\n",
    "    \n",
    "    # 모두 \"진짜 이미지\"라고 레이블을 만든다.\n",
    "    misleading_targets = np.zeros((batch_size, 1))\n",
    "    \n",
    "    # generator를 훈련한다.(gan 모델에서 discriminator의 가중치는 동결된다.)\n",
    "    a_loss = gan.train_on_batch(random_latent_vectors, misleading_targets)\n",
    "    \n",
    "    start += batch_size\n",
    "    if start > len(x_train) - batch_size:\n",
    "        start = 0\n",
    "        \n",
    "    # 중간 중간 저장하고 그래프를 그린다.\n",
    "    if step % 100 == 0:\n",
    "        # 모델의 가중치를 저장\n",
    "        gan.save_weights('./models/gan.h5')\n",
    "        \n",
    "        # 측정 지표를 출력한다.\n",
    "        print('스텝 %s에서 판별자 손실: %s' % (step, d_loss))\n",
    "        print('스텝 %s에서 적대적 손실: %s' % (step, a_loss))\n",
    "        \n",
    "        # 생성된 이미지 하나를 저장한다.\n",
    "        img = image.array_to_img(generated_images[0] * 255., scale=False)\n",
    "        img.save(os.path.join(save_dir, 'generated_frog'+str(step)+'.png'))\n",
    "        \n",
    "        # 비교를 위해 진짜 이미지 하나를 저장한다.\n",
    "        img = image.array_to_img(real_images[0] * 255., scale=False)\n",
    "        img.save(os.path.join(save_dir, 'real_frog'+str(step)+'.png'))"
   ]
  },
  {
   "cell_type": "code",
   "execution_count": 14,
   "metadata": {
    "ExecuteTime": {
     "end_time": "2019-01-16T07:51:55.061558Z",
     "start_time": "2019-01-16T07:51:54.015547Z"
    },
    "scrolled": false
   },
   "outputs": [
    {
     "data": {
      "image/png": "[encoded data removed]",
      "text/plain": [
       "<Figure size 432x288 with 1 Axes>"
      ]
     },
     "metadata": {
      "needs_background": "light"
     },
     "output_type": "display_data"
    },
    {
     "data": {
      "image/png": "[encoded data removed]",
      "text/plain": [
       "<Figure size 432x288 with 1 Axes>"
      ]
     },
     "metadata": {
      "needs_background": "light"
     },
     "output_type": "display_data"
    },
    {
     "data": {
      "image/png": "[encoded data removed]",
      "text/plain": [
       "<Figure size 432x288 with 1 Axes>"
      ]
     },
     "metadata": {
      "needs_background": "light"
     },
     "output_type": "display_data"
    },
    {
     "data": {
      "image/png": "[encoded data removed]",
      "text/plain": [
       "<Figure size 432x288 with 1 Axes>"
      ]
     },
     "metadata": {
      "needs_background": "light"
     },
     "output_type": "display_data"
    },
    {
     "data": {
      "image/png": "[encoded data removed]",
      "text/plain": [
       "<Figure size 432x288 with 1 Axes>"
      ]
     },
     "metadata": {
      "needs_background": "light"
     },
     "output_type": "display_data"
    },
    {
     "data": {
      "image/png": "[encoded data removed]",
      "text/plain": [
       "<Figure size 432x288 with 1 Axes>"
      ]
     },
     "metadata": {
      "needs_background": "light"
     },
     "output_type": "display_data"
    },
    {
     "data": {
      "image/png": "[encoded data removed]",
      "text/plain": [
       "<Figure size 432x288 with 1 Axes>"
      ]
     },
     "metadata": {
      "needs_background": "light"
     },
     "output_type": "display_data"
    },
    {
     "data": {
      "image/png": "[encoded data removed]",
      "text/plain": [
       "<Figure size 432x288 with 1 Axes>"
      ]
     },
     "metadata": {
      "needs_background": "light"
     },
     "output_type": "display_data"
    },
    {
     "data": {
      "image/png": "[encoded data removed]",
      "text/plain": [
       "<Figure size 432x288 with 1 Axes>"
      ]
     },
     "metadata": {
      "needs_background": "light"
     },
     "output_type": "display_data"
    },
    {
     "data": {
      "image/png": "[encoded data removed]",
      "text/plain": [
       "<Figure size 432x288 with 1 Axes>"
      ]
     },
     "metadata": {
      "needs_background": "light"
     },
     "output_type": "display_data"
    }
   ],
   "source": [
    "%matplotlib inline\n",
    "import matplotlib.pyplot as plt\n",
    "\n",
    "# 잠재 공간에서 랜덤한 포인트를 샘플링합니다\n",
    "random_latent_vectors = np.random.normal(size=(10, latent_dim))\n",
    "\n",
    "# 가짜 이미지로 디코딩합니다\n",
    "generated_images = generator.predict(random_latent_vectors)\n",
    "\n",
    "for i in range(generated_images.shape[0]):\n",
    "    img = image.array_to_img(generated_images[i] * 255., scale=False)\n",
    "    plt.figure()\n",
    "    plt.imshow(img)\n",
    "    \n",
    "plt.show()"
   ]
  },
  {
   "cell_type": "markdown",
   "metadata": {},
   "source": [
    " "
   ]
  },
  {
   "cell_type": "markdown",
   "metadata": {},
   "source": [
    "### 8.5.7 정리\n",
    "\n",
    "- GAN은 생성자(generator)네트워크와 판별자(discriminator) 네트워크가 연결되어 구성된다.\n",
    "    - 판별자는 생성자의 출력과 훈련 데이터셋에서 가져온 진짜 이미지를 구분하도록 훈련된다. 생성자는 판별자를 속이도록 훈련된다.\n",
    "    - 생성자는 훈련 세트의 이미지를 직접 보지않고, 데이터에 관한 정보는 판별자에서 얻는다.\n",
    "    \n",
    "- GAN은 훈련하기 어렵다. GAN 훈련이 고정된 손실 공간에서 수행하는 단순한 경사하상법 과정이 아니라 동적 과정이기 때문이다.\n",
    "- GAN은 실제 같은 이미지를 만들 수 있다. VAE와 달리 학습된 잠재공간이 깔끔하게 연속된 구조를 가지지 않는다."
   ]
  },
  {
   "cell_type": "code",
   "execution_count": null,
   "metadata": {},
   "outputs": [],
   "source": []
  }
 ],
 "metadata": {
  "kernelspec": {
   "display_name": "TensorFlow",
   "language": "python",
   "name": "tensorflow"
  },
  "language_info": {
   "codemirror_mode": {
    "name": "ipython",
    "version": 3
   },
   "file_extension": ".py",
   "mimetype": "text/x-python",
   "name": "python",
   "nbconvert_exporter": "python",
   "pygments_lexer": "ipython3",
   "version": "3.6.7"
  },
  "latex_envs": {
   "LaTeX_envs_menu_present": true,
   "autoclose": false,
   "autocomplete": true,
   "bibliofile": "biblio.bib",
   "cite_by": "apalike",
   "current_citInitial": 1,
   "eqLabelWithNumbers": true,
   "eqNumInitial": 1,
   "hotkeys": {
    "equation": "Ctrl-E",
    "itemize": "Ctrl-I"
   },
   "labels_anchors": false,
   "latex_user_defs": false,
   "report_style_numbering": false,
   "user_envs_cfg": false
  },
  "toc": {
   "base_numbering": 1,
   "nav_menu": {},
   "number_sections": false,
   "sideBar": true,
   "skip_h1_title": false,
   "title_cell": "Table of Contents",
   "title_sidebar": "Contents",
   "toc_cell": true,
   "toc_position": {
    "height": "calc(100% - 180px)",
    "left": "10px",
    "top": "150px",
    "width": "191.594px"
   },
   "toc_section_display": true,
   "toc_window_display": false
  },
  "varInspector": {
   "cols": {
    "lenName": 16,
    "lenType": 16,
    "lenVar": 40
   },
   "kernels_config": {
    "python": {
     "delete_cmd_postfix": "",
     "delete_cmd_prefix": "del ",
     "library": "var_list.py",
     "varRefreshCmd": "print(var_dic_list())"
    },
    "r": {
     "delete_cmd_postfix": ") ",
     "delete_cmd_prefix": "rm(",
     "library": "var_list.r",
     "varRefreshCmd": "cat(var_dic_list()) "
    }
   },
   "types_to_exclude": [
    "module",
    "function",
    "builtin_function_or_method",
    "instance",
    "_Feature"
   ],
   "window_display": false
  }
 },
 "nbformat": 4,
 "nbformat_minor": 2
}
