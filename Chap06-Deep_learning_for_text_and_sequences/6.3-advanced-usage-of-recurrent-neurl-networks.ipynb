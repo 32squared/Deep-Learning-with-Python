{
 "cells": [
  {
   "cell_type": "markdown",
   "metadata": {},
   "source": [
    "## 6.3 순환 신경망의 고급 사용법\n",
    "\n",
    "이 절에서는 순환 신경망의 성능과 일반화 능력을 향상시키기 위한 세 가지의 고급 기술을 살펴보겠습니다. 이 절을 마칠 때면 케라스에서 순환 신경망을 사용하는 대부분의 방법을 알게 될 것입니다. \n",
    "\n",
    "온도 예측 문제로 세 가지 개념을 모두 시연해 보겠습니다. \n",
    "- 이 시계열 데이터는 건물 옥상에 설치된 센서에서 취득한 온도, 기압, 습도 같은 데이터입니다. \n",
    "- 이 데이터를 사용하여 마지막 데이터 포인트에서부터 24시간 이후의 온도를 예측하겠습니다. \n",
    "- 이 문제는 시계열 데이터에서 일반적으로 나타나는 여러 가지 어려운 점을 가지고 있습니다. 전형적이고 꽤 도전적인 문제입니다.\n",
    "\n",
    "\n",
    "다음 기법들을 적용하겠습니다.\n",
    "- **순환 드롭아웃(recurrent dropout)** : 순환 층에서 과대적합을 방지하기 위해 케라스에 내장되어 있는 드롭아웃을 사용합니다.\n",
    "- **순환 층 스태킹(stacking recurrent layer)** : 네트워크의 표현 능력을 증가시킵니다(대신 계산 비용이 많이 듭니다).\n",
    "- **양방향 순환 층(bidirectional recurrent layer)** : 순환 네트워크에 같은 정보를 다른 방향으로 주입하여 정확도를 높이고 기억을 좀 더 오래 유지시킵니다."
   ]
  },
  {
   "cell_type": "markdown",
   "metadata": {},
   "source": [
    " "
   ]
  },
  {
   "cell_type": "markdown",
   "metadata": {},
   "source": [
    "### 6.3.1 기온 예측 문제\n",
    "\n",
    "지금까지 다룬 시퀀스 데이터는 IMDB 데이터셋이나 로이터 데이터셋과 같은 텍스트 데이터입니다. 시퀀스 데이터는 이런 언어 처리 분야뿐만 아니라 훨씬 많은 문제에서 등장합니다. \n",
    "\n",
    "이 절에 있는 모든 예제는 날씨 시계열 데이터셋을 사용합니다. \n",
    "- 이 데이터는 독일 예나 시에 있는 막스 플랑크 생물지구화학 연구소( http://www.bgc-jena.mpg.de/wetter/ )의 지상 관측소에서 수집한 것입니다.\n",
    "- 이 데이터셋에는 수년간에 걸쳐 (기온, 기압, 습도, 풍향 등과 같은) 14개의 관측치가 10분마다 기록되어 있습니다. \n",
    "- 원본 데이터는 2003년부터 기록되어 있지만 이 예제에서는 2009~2016년 사이의 데이터만 사용합니다. \n",
    "- 이 데이터셋은 시계열 수치 데이터를 다루는 법을 익히는 데 안성맞춤입니다. \n",
    "\n",
    "최근 데이터(몇 일치 데이터 포인트)를 입력으로 사용해 모델을 만들고 24시간 이후의 기온을 예측하겠습니다."
   ]
  },
  {
   "cell_type": "code",
   "execution_count": 1,
   "metadata": {},
   "outputs": [
    {
     "name": "stdout",
     "output_type": "stream",
     "text": [
      "['\"Date Time\"', '\"p (mbar)\"', '\"T (degC)\"', '\"Tpot (K)\"', '\"Tdew (degC)\"', '\"rh (%)\"', '\"VPmax (mbar)\"', '\"VPact (mbar)\"', '\"VPdef (mbar)\"', '\"sh (g/kg)\"', '\"H2OC (mmol/mol)\"', '\"rho (g/m**3)\"', '\"wv (m/s)\"', '\"max. wv (m/s)\"', '\"wd (deg)\"']\n",
      "420551\n"
     ]
    }
   ],
   "source": [
    "import os\n",
    "\n",
    "data_dir = '../datasets/jena_climate/'\n",
    "fname = os.path.join(data_dir, 'jena_climate_2009_2016.csv')\n",
    "\n",
    "with open(fname) as f:\n",
    "    data = f.read()\n",
    "    \n",
    "lines = data.split('\\n')\n",
    "header = lines[0].split(',')\n",
    "lines = lines[1:]\n",
    "\n",
    "print(header)\n",
    "print(len(lines))"
   ]
  },
  {
   "cell_type": "code",
   "execution_count": 2,
   "metadata": {},
   "outputs": [
    {
     "name": "stdout",
     "output_type": "stream",
     "text": [
      "<class 'pandas.core.frame.DataFrame'>\n",
      "RangeIndex: 420551 entries, 0 to 420550\n",
      "Data columns (total 15 columns):\n",
      "Date Time          420551 non-null object\n",
      "p (mbar)           420551 non-null float64\n",
      "T (degC)           420551 non-null float64\n",
      "Tpot (K)           420551 non-null float64\n",
      "Tdew (degC)        420551 non-null float64\n",
      "rh (%)             420551 non-null float64\n",
      "VPmax (mbar)       420551 non-null float64\n",
      "VPact (mbar)       420551 non-null float64\n",
      "VPdef (mbar)       420551 non-null float64\n",
      "sh (g/kg)          420551 non-null float64\n",
      "H2OC (mmol/mol)    420551 non-null float64\n",
      "rho (g/m**3)       420551 non-null float64\n",
      "wv (m/s)           420551 non-null float64\n",
      "max. wv (m/s)      420551 non-null float64\n",
      "wd (deg)           420551 non-null float64\n",
      "dtypes: float64(14), object(1)\n",
      "memory usage: 48.1+ MB\n"
     ]
    },
    {
     "data": {
      "text/plain": [
       "None"
      ]
     },
     "metadata": {},
     "output_type": "display_data"
    },
    {
     "data": {
      "text/html": [
       "<div>\n",
       "<style scoped>\n",
       "    .dataframe tbody tr th:only-of-type {\n",
       "        vertical-align: middle;\n",
       "    }\n",
       "\n",
       "    .dataframe tbody tr th {\n",
       "        vertical-align: top;\n",
       "    }\n",
       "\n",
       "    .dataframe thead th {\n",
       "        text-align: right;\n",
       "    }\n",
       "</style>\n",
       "<table border=\"1\" class=\"dataframe\">\n",
       "  <thead>\n",
       "    <tr style=\"text-align: right;\">\n",
       "      <th></th>\n",
       "      <th>Date Time</th>\n",
       "      <th>p (mbar)</th>\n",
       "      <th>T (degC)</th>\n",
       "      <th>Tpot (K)</th>\n",
       "      <th>Tdew (degC)</th>\n",
       "      <th>rh (%)</th>\n",
       "      <th>VPmax (mbar)</th>\n",
       "      <th>VPact (mbar)</th>\n",
       "      <th>VPdef (mbar)</th>\n",
       "      <th>sh (g/kg)</th>\n",
       "      <th>H2OC (mmol/mol)</th>\n",
       "      <th>rho (g/m**3)</th>\n",
       "      <th>wv (m/s)</th>\n",
       "      <th>max. wv (m/s)</th>\n",
       "      <th>wd (deg)</th>\n",
       "    </tr>\n",
       "  </thead>\n",
       "  <tbody>\n",
       "    <tr>\n",
       "      <th>0</th>\n",
       "      <td>01.01.2009 00:10:00</td>\n",
       "      <td>996.52</td>\n",
       "      <td>-8.02</td>\n",
       "      <td>265.40</td>\n",
       "      <td>-8.90</td>\n",
       "      <td>93.3</td>\n",
       "      <td>3.33</td>\n",
       "      <td>3.11</td>\n",
       "      <td>0.22</td>\n",
       "      <td>1.94</td>\n",
       "      <td>3.12</td>\n",
       "      <td>1307.75</td>\n",
       "      <td>1.03</td>\n",
       "      <td>1.75</td>\n",
       "      <td>152.3</td>\n",
       "    </tr>\n",
       "    <tr>\n",
       "      <th>1</th>\n",
       "      <td>01.01.2009 00:20:00</td>\n",
       "      <td>996.57</td>\n",
       "      <td>-8.41</td>\n",
       "      <td>265.01</td>\n",
       "      <td>-9.28</td>\n",
       "      <td>93.4</td>\n",
       "      <td>3.23</td>\n",
       "      <td>3.02</td>\n",
       "      <td>0.21</td>\n",
       "      <td>1.89</td>\n",
       "      <td>3.03</td>\n",
       "      <td>1309.80</td>\n",
       "      <td>0.72</td>\n",
       "      <td>1.50</td>\n",
       "      <td>136.1</td>\n",
       "    </tr>\n",
       "    <tr>\n",
       "      <th>2</th>\n",
       "      <td>01.01.2009 00:30:00</td>\n",
       "      <td>996.53</td>\n",
       "      <td>-8.51</td>\n",
       "      <td>264.91</td>\n",
       "      <td>-9.31</td>\n",
       "      <td>93.9</td>\n",
       "      <td>3.21</td>\n",
       "      <td>3.01</td>\n",
       "      <td>0.20</td>\n",
       "      <td>1.88</td>\n",
       "      <td>3.02</td>\n",
       "      <td>1310.24</td>\n",
       "      <td>0.19</td>\n",
       "      <td>0.63</td>\n",
       "      <td>171.6</td>\n",
       "    </tr>\n",
       "    <tr>\n",
       "      <th>3</th>\n",
       "      <td>01.01.2009 00:40:00</td>\n",
       "      <td>996.51</td>\n",
       "      <td>-8.31</td>\n",
       "      <td>265.12</td>\n",
       "      <td>-9.07</td>\n",
       "      <td>94.2</td>\n",
       "      <td>3.26</td>\n",
       "      <td>3.07</td>\n",
       "      <td>0.19</td>\n",
       "      <td>1.92</td>\n",
       "      <td>3.08</td>\n",
       "      <td>1309.19</td>\n",
       "      <td>0.34</td>\n",
       "      <td>0.50</td>\n",
       "      <td>198.0</td>\n",
       "    </tr>\n",
       "    <tr>\n",
       "      <th>4</th>\n",
       "      <td>01.01.2009 00:50:00</td>\n",
       "      <td>996.51</td>\n",
       "      <td>-8.27</td>\n",
       "      <td>265.15</td>\n",
       "      <td>-9.04</td>\n",
       "      <td>94.1</td>\n",
       "      <td>3.27</td>\n",
       "      <td>3.08</td>\n",
       "      <td>0.19</td>\n",
       "      <td>1.92</td>\n",
       "      <td>3.09</td>\n",
       "      <td>1309.00</td>\n",
       "      <td>0.32</td>\n",
       "      <td>0.63</td>\n",
       "      <td>214.3</td>\n",
       "    </tr>\n",
       "  </tbody>\n",
       "</table>\n",
       "</div>"
      ],
      "text/plain": [
       "             Date Time  p (mbar)  T (degC)  Tpot (K)  Tdew (degC)  rh (%)  \\\n",
       "0  01.01.2009 00:10:00    996.52     -8.02    265.40        -8.90    93.3   \n",
       "1  01.01.2009 00:20:00    996.57     -8.41    265.01        -9.28    93.4   \n",
       "2  01.01.2009 00:30:00    996.53     -8.51    264.91        -9.31    93.9   \n",
       "3  01.01.2009 00:40:00    996.51     -8.31    265.12        -9.07    94.2   \n",
       "4  01.01.2009 00:50:00    996.51     -8.27    265.15        -9.04    94.1   \n",
       "\n",
       "   VPmax (mbar)  VPact (mbar)  VPdef (mbar)  sh (g/kg)  H2OC (mmol/mol)  \\\n",
       "0          3.33          3.11          0.22       1.94             3.12   \n",
       "1          3.23          3.02          0.21       1.89             3.03   \n",
       "2          3.21          3.01          0.20       1.88             3.02   \n",
       "3          3.26          3.07          0.19       1.92             3.08   \n",
       "4          3.27          3.08          0.19       1.92             3.09   \n",
       "\n",
       "   rho (g/m**3)  wv (m/s)  max. wv (m/s)  wd (deg)  \n",
       "0       1307.75      1.03           1.75     152.3  \n",
       "1       1309.80      0.72           1.50     136.1  \n",
       "2       1310.24      0.19           0.63     171.6  \n",
       "3       1309.19      0.34           0.50     198.0  \n",
       "4       1309.00      0.32           0.63     214.3  "
      ]
     },
     "metadata": {},
     "output_type": "display_data"
    }
   ],
   "source": [
    "import pandas as pd\n",
    "\n",
    "df = pd.read_csv(fname, header=0)\n",
    "display(df.info())\n",
    "display(df.head())"
   ]
  },
  {
   "cell_type": "markdown",
   "metadata": {},
   "source": [
    " "
   ]
  },
  {
   "cell_type": "markdown",
   "metadata": {},
   "source": [
    "420,551개 데이터 전체를 넘파이 배열로 바꿉니다:"
   ]
  },
  {
   "cell_type": "code",
   "execution_count": 3,
   "metadata": {},
   "outputs": [
    {
     "data": {
      "text/plain": [
       "(420551, 14)"
      ]
     },
     "execution_count": 3,
     "metadata": {},
     "output_type": "execute_result"
    }
   ],
   "source": [
    "import numpy as np\n",
    "\n",
    "float_data = np.zeros((len(lines), len(header) - 1))\n",
    "for i, line in enumerate(lines):\n",
    "    values = [float(x) for x in line.split(',')[1:]]\n",
    "    float_data[i, :] = values\n",
    "    \n",
    "float_data.shape  # == df.values[:, 1:]"
   ]
  },
  {
   "cell_type": "markdown",
   "metadata": {},
   "source": [
    " "
   ]
  },
  {
   "cell_type": "markdown",
   "metadata": {},
   "source": [
    "예를 들어 다음은 시간에 따른 기온(섭씨) 그래프입니다:"
   ]
  },
  {
   "cell_type": "code",
   "execution_count": 4,
   "metadata": {},
   "outputs": [],
   "source": [
    "import matplotlib.pyplot as plt"
   ]
  },
  {
   "cell_type": "code",
   "execution_count": 5,
   "metadata": {},
   "outputs": [
    {
     "data": {
      "image/png": "[encoded data removed]",
      "text/plain": [
       "<Figure size 432x288 with 1 Axes>"
      ]
     },
     "metadata": {},
     "output_type": "display_data"
    }
   ],
   "source": [
    "temp = float_data[:, 1]  # 온도(섭씨)\n",
    "plt.plot(range(len(temp)), temp)\n",
    "plt.show()"
   ]
  },
  {
   "cell_type": "markdown",
   "metadata": {},
   "source": [
    " "
   ]
  },
  {
   "cell_type": "markdown",
   "metadata": {},
   "source": [
    "이 그래프에서 온도에 주기성이 있다는 것을 잘 볼 수 있습니다.\n",
    "\n",
    "다음은 기간을 좁혀서 처음 10일간의 온도 데이터를 나타낸 그래프입니다. \n",
    "\n",
    "> 2009년 1월 1일 0시 10분부터 1월 11일 0시 0분까지 데이터입니다.\n",
    "\n",
    "10분마다 데이터가 기록되므로 하루에 총 144개의 데이터 포인트가 있습니다:"
   ]
  },
  {
   "cell_type": "code",
   "execution_count": 6,
   "metadata": {},
   "outputs": [
    {
     "data": {
      "image/png": "[encoded data removed]",
      "text/plain": [
       "<Figure size 432x288 with 1 Axes>"
      ]
     },
     "metadata": {},
     "output_type": "display_data"
    }
   ],
   "source": [
    "plt.plot(range(1440), temp[:1440])  # 24(시간) * 60(분) / 10(분) * 10(일)\n",
    "plt.show()"
   ]
  },
  {
   "cell_type": "markdown",
   "metadata": {},
   "source": [
    " "
   ]
  },
  {
   "cell_type": "markdown",
   "metadata": {},
   "source": [
    "이 그래프에서 일별 주기성을 볼 수 있습니다. 특히 마지막 4일간을 보면 확실합니다. 이 데이터는 아주 추운 겨울 중 10일입니다.\n",
    "\n",
    "지난 몇 달간의 데이터를 사용해 다음 달의 평균 온도를 예측하는 문제는 쉬운 편입니다. 연간 데이터 주기성은 안정적이기 때문입니다. 하지만 하루 하루 데이터를 살펴보면 온도 변화는 매우 불안정합니다. 일자별 수준의 시계열 데이터를 예측할 수 있을까요? 직접 확인해 보겠습니다."
   ]
  },
  {
   "cell_type": "markdown",
   "metadata": {},
   "source": [
    " "
   ]
  },
  {
   "cell_type": "markdown",
   "metadata": {},
   "source": [
    "### 6.3.2 데이터 준비\n",
    "\n",
    "이 문제의 정확한 정의는 다음과 같습니다. `lookback` 타임스텝(하나의 타임스텝은 10분입니다)만큼 이전으로 돌아가서 매 `steps` 타임스텝마다 샘플링합니다. 이 데이터를 바탕으로 `delay` 타임스텝 이후의 온도를 예측할 수 있을까요? 사용할 변수는 다음과 같습니다.\n",
    "\n",
    "- **lookback** = 1440 : 10일 전 데이터로 돌아갑니다.\n",
    "- **steps** = 6 : 한 시간마다 데이터 포인트 하나를 샘플링합니다.\n",
    "- **delay** = 144 : 24시간이 지난 데이터가 타깃이 됩니다.\n",
    "\n",
    "\n",
    "시작하기 전에 두 가지 작업을 처리해야 합니다:\n",
    "\n",
    "- 신경망에 주입할 수 있는 형태로 데이터를 전처리합니다. 데이터가 이미 수치형이므로 추가적인 벡터화가 필요하지 않습니다. 하지만 데이터에 있는 각 시계열 특성의 범위가 서로 다릅니다(예를 들어 온도는 일반적으로 -20도에서 +30도 사이이고, 밀리바(mb)로 측정된 기압은 1,000 근처의 값입니다). 각 시계열 **특성을 개별적으로 정규화**하여 **비슷한 범위를 가진 작은 값**으로 바꾸겠습니다.\n",
    "\n",
    "- float_data 배열을 받아 과거 데이터의 배치와 미래 타깃 온도를 추출하는 파이썬 제너레이터를 만듭니다. 이 데이터셋에 있는 샘플은 중복이 많습니다(샘플 N과 샘플 N + 1은 대부분 타임스텝이 비슷합니다). 모든 샘플을 각기 메모리에 적재하는 것은 낭비가 심하므로 대신에 원본 데이터를 사용해 그때 그때 배치를 만들겠습니다."
   ]
  },
  {
   "cell_type": "markdown",
   "metadata": {},
   "source": [
    "#### Data Normalization\n",
    "\n",
    "각 시계열 특성에 대해 평균을 빼고 표준 편차로 나누어 전처리합니다. 처음 200,000개 타임스텝을 훈련 데이터로 사용할 것이므로 전체 데이터에서 200,000개만 사용하여 평균과 표준 편차를 계산합니다:"
   ]
  },
  {
   "cell_type": "code",
   "execution_count": 7,
   "metadata": {},
   "outputs": [],
   "source": [
    "mean = float_data[:200000].mean(axis=0)\n",
    "float_data -= mean\n",
    "std = float_data[:200000].std(axis=0)\n",
    "float_data /= std"
   ]
  },
  {
   "cell_type": "markdown",
   "metadata": {},
   "source": [
    " "
   ]
  },
  {
   "cell_type": "markdown",
   "metadata": {},
   "source": [
    "#### generator 함수 만들기\n",
    "\n",
    "다음은 여기서 사용할 제너레이터입니다. 이 제너레이터 함수는 `(samples, targets)` 튜플을 반복적으로 반환합니다. `samples`는 입력 데이터로 사용할 배치이고 `targets`은 이에 대응되는 타깃 온도의 배열입니다. 이 제너레이터 함수는 다음과 같은 매개변수가 있습니다:\n",
    "\n",
    "- `data` : 코드 6-32에서 정규화한 부동 소수 데이터로 이루어진 원본 배열\n",
    "- `lookback` : 입력으로 사용하기 위해 거슬러 올라갈 타임스텝\n",
    "- `delay` : 타깃으로 사용할 미래의 타임스텝\n",
    "- `min_index`와 `max_index` : 추출할 타임스텝의 범위를 지정하기 위한 data 배열의 인덱스. 검증 데이터와 테스트 데이터를 분리하는 데 사용합니다.\n",
    "- `shuffle` : 샘플을 섞을지 시간 순서대로 추출할지 결정합니다.\n",
    "- `batch_size` : 배치의 샘플 수\n",
    "- `step` : 데이터를 샘플링할 타임스텝 간격. 한 시간에 하나의 데이터 포인트를 추출하기 위해 6으로 지정하겠습니다."
   ]
  },
  {
   "cell_type": "code",
   "execution_count": 8,
   "metadata": {},
   "outputs": [],
   "source": [
    "def generator(data, lookback, delay, min_index, max_index, \n",
    "              shuffle=False, batch_size=128, step=6):\n",
    "    if max_index is None:\n",
    "        max_index = len(data) - delay - 1\n",
    "    i = min_index + lookback\n",
    "    while 1:\n",
    "        if shuffle:\n",
    "            rows = np.random.randint(\n",
    "                min_index + lookback, max_index, size=batch_size)\n",
    "        else:\n",
    "            if i + batch_size >= max_index:\n",
    "                i = min_index + lookback\n",
    "            rows = np.arange(i, min(i + batch_size, max_index))\n",
    "            i += len(rows)\n",
    "            \n",
    "        samples = np.zeros((len(rows), \n",
    "                            lookback // step, \n",
    "                            data.shape[-1]))\n",
    "        targets = np.zeros((len(rows), ))\n",
    "        for j, row in enumerate(rows):\n",
    "            indices = range(rows[j] - lookback, rows[j], step)\n",
    "            samples[j] = data[indices]\n",
    "            targets[j] = data[rows[j] + delay][1]\n",
    "        yield samples, targets"
   ]
  },
  {
   "cell_type": "markdown",
   "metadata": {},
   "source": [
    " "
   ]
  },
  {
   "cell_type": "markdown",
   "metadata": {},
   "source": [
    "이제 `generator` 함수를 사용해 훈련용, 검증용, 테스트용으로 세 개의 제너레이터를 만들어 보죠. 각 제너레이터는 원본 데이터에서 다른 시간대를 사용합니다. 훈련 제너레이터는 처음 200,000개 타임스텝을 사용하고 검증 제너레이터는 그 다음 100,000개를 사용하고 테스트 제너레이터는 나머지를 사용합니다."
   ]
  },
  {
   "cell_type": "code",
   "execution_count": 9,
   "metadata": {},
   "outputs": [],
   "source": [
    "lookback = 1440  # 10일\n",
    "step = 6  # 1시간 단위\n",
    "delay = 144  # 24시간 (하루)\n",
    "batch_size = 128\n",
    "\n",
    "train_gen = generator(float_data,\n",
    "                      lookback=lookback, \n",
    "                      delay=delay,\n",
    "                      min_index=0,\n",
    "                      max_index=200000,\n",
    "                      shuffle=True,\n",
    "                      step=step,\n",
    "                      batch_size=batch_size)\n",
    "val_gen = generator(float_data, \n",
    "                    lookback=lookback, \n",
    "                    delay=delay,\n",
    "                    min_index=200001,\n",
    "                    max_index=300000,\n",
    "                    step=step, \n",
    "                    batch_size=batch_size)\n",
    "test_gen = generator(float_data,\n",
    "                     lookback=lookback,\n",
    "                     delay=delay,\n",
    "                     min_index=300001,\n",
    "                     max_index=None,\n",
    "                     step=step,\n",
    "                     batch_size=batch_size)\n",
    "\n",
    "# 전체 검증 세트를 순회하기 위해 val_gen에서 추출할 횟수\n",
    "val_steps = (300000 - 200001 - lookback) // batch_size\n",
    "\n",
    "# 전체 테스트 세트를 순회하기 위해 test_gen에서 추출할 횟수\n",
    "test_steps = (len(float_data) - 300001 - lookback) // batch_size"
   ]
  },
  {
   "cell_type": "markdown",
   "metadata": {},
   "source": [
    " "
   ]
  },
  {
   "cell_type": "markdown",
   "metadata": {},
   "source": [
    "### 6.3.3 상식 수준의 기준점(baseline)\n",
    "\n",
    "블랙 박스 같은 딥러닝 모델을 사용해 온도 예측 문제를 풀기 전에 간단한 상식 수준의 해법을 시도해 보겠습니다. 이는 정상 여부 확인을 위한 용도이고 고수준 머신 러닝 모델이라면 뛰어 넘어야 할 **기준점(baseline)**을 만듭니다. \n",
    "\n",
    "이런 상식 수준의 해법은 알려진 해결책이 없는 새로운 문제를 다루어야 할 때 유용합니다. \n",
    "- 일부 클래스가 월등히 많아 불균형한 분류 문제가 고전적인 예입니다. \n",
    "- 데이터셋에 클래스 A의 샘플이 90%, 클래스 B의 샘플이 10%가 있다면, 이 분류 문제에 대한 상식 수준의 접근법은 새로운 샘플을 항상 클래스 'A'라고 예측하는 것입니다. \n",
    "- 이 분류기는 전반적으로 90%의 정확도를 낼 것입니다. \n",
    "- 머신 러닝 기반의 모델이라면 90% 이상을 달성해야 유용하다고 볼 수 있습니다. \n",
    "- 이따금 이런 기본적인 기준점을 넘어서기가 아주 어려운 경우가 있습니다.\n",
    "\n",
    "이 경우 온도 시계열 데이터는 연속성이 있고 일자별로 주기성을 가진다고 가정할 수 있습니다(오늘 온도는 내일 온도와 비슷할 가능성이 높습니다). 그렇기 때문에 상식 수준의 해결책은 지금으로부터 24시간 후의 온도는 지금과 동일하다고 예측하는 것입니다. 이 방법을 평균 절댓값 오차(MAE)로 평가해 보겠습니다:\n",
    "\n",
    "```python\n",
    "np.mean(np.abs(preds - targets))\n",
    "```"
   ]
  },
  {
   "cell_type": "markdown",
   "metadata": {},
   "source": [
    "다음은 평가를 위한 반복 루프입니다:"
   ]
  },
  {
   "cell_type": "code",
   "execution_count": 10,
   "metadata": {},
   "outputs": [
    {
     "name": "stdout",
     "output_type": "stream",
     "text": [
      "0.2897359729905486\n"
     ]
    }
   ],
   "source": [
    "def evaluate_naive_method():\n",
    "    batch_maes = []\n",
    "    for step in range(val_steps):\n",
    "        samples, targets = next(val_gen)\n",
    "        preds = samples[:, -1, 1]\n",
    "        mae = np.mean(np.abs(preds - targets))\n",
    "        batch_maes.append(mae)\n",
    "    print(np.mean(batch_maes))\n",
    "    \n",
    "evaluate_naive_method()"
   ]
  },
  {
   "cell_type": "code",
   "execution_count": 11,
   "metadata": {},
   "outputs": [
    {
     "data": {
      "text/plain": [
       "2.5672247338393395"
      ]
     },
     "execution_count": 11,
     "metadata": {},
     "output_type": "execute_result"
    }
   ],
   "source": [
    "0.29 * std[1]"
   ]
  },
  {
   "cell_type": "markdown",
   "metadata": {},
   "source": [
    "출력된 MAE는 0.29입니다. 이 온도 데이터는 평균이 0이고 표준 편차가 1이므로 결괏값이 바로 와 닿지는 않습니다. 평균 절댓값 오차 0.29에 표준 편차를 곱하면 섭씨 2.57°C가 됩니다. 평균 절댓값 오차가 상당히 크네요. 이제 딥러닝 모델이 더 나은지 시도해 봅시다."
   ]
  },
  {
   "cell_type": "markdown",
   "metadata": {},
   "source": [
    " "
   ]
  },
  {
   "cell_type": "markdown",
   "metadata": {},
   "source": [
    "### 6.3.4 기본적인 머신러닝 방법\n",
    "\n",
    "머신 러닝 모델을 시도하기 전에 상식 수준의 기준점을 세워 놓았습니다. 비슷하게 RNN처럼 복잡하고 연산 비용이 많이 드는 모델을 시도하기 전에 간단하고 손쉽게 만들 수 있는 머신 러닝 모델(예를 들면 소규모의 완전 연결 네트워크)을 먼저 만드는 것이 좋습니다. 이를 바탕으로 더 복잡한 방법을 도입하는 근거가 마련되고 실제적인 이득도 얻게 될 것입니다.\n",
    "\n",
    "다음 코드는 데이터를 펼쳐서 두 개의 Dense 층을 통과시키는 완전 연결 네트워크를 보여줍니다. 전형적인 회귀 문제이므로 마지막 Dense 층에 활성화 함수를 두지 않았습니다. 손실 함수는 MAE입니다. 상식 수준의 방법에서 사용한 것과 동일한 데이터와 지표를 사용했으므로 결과를 바로 비교해볼 수 있습니다."
   ]
  },
  {
   "cell_type": "code",
   "execution_count": 12,
   "metadata": {},
   "outputs": [
    {
     "name": "stderr",
     "output_type": "stream",
     "text": [
      "Using TensorFlow backend.\n"
     ]
    },
    {
     "name": "stdout",
     "output_type": "stream",
     "text": [
      "Epoch 1/20\n",
      "500/500 [==============================] - 7s 14ms/step - loss: 1.6410 - val_loss: 0.7259\n",
      "Epoch 2/20\n",
      "500/500 [==============================] - 6s 11ms/step - loss: 0.5548 - val_loss: 0.3111\n",
      "Epoch 3/20\n",
      "500/500 [==============================] - 6s 11ms/step - loss: 0.3126 - val_loss: 0.3228\n",
      "Epoch 4/20\n",
      "500/500 [==============================] - 6s 11ms/step - loss: 0.2747 - val_loss: 0.3247\n",
      "Epoch 5/20\n",
      "500/500 [==============================] - 6s 11ms/step - loss: 0.2613 - val_loss: 0.3353\n",
      "Epoch 6/20\n",
      "500/500 [==============================] - 6s 11ms/step - loss: 0.2512 - val_loss: 0.3135\n",
      "Epoch 7/20\n",
      "500/500 [==============================] - 6s 11ms/step - loss: 0.2429 - val_loss: 0.3098\n",
      "Epoch 8/20\n",
      "500/500 [==============================] - 6s 11ms/step - loss: 0.2380 - val_loss: 0.3259\n",
      "Epoch 9/20\n",
      "500/500 [==============================] - 6s 12ms/step - loss: 0.2313 - val_loss: 0.3198\n",
      "Epoch 10/20\n",
      "500/500 [==============================] - 6s 11ms/step - loss: 0.2261 - val_loss: 0.3250\n",
      "Epoch 11/20\n",
      "500/500 [==============================] - 6s 11ms/step - loss: 0.2212 - val_loss: 0.3380\n",
      "Epoch 12/20\n",
      "500/500 [==============================] - 6s 11ms/step - loss: 0.2175 - val_loss: 0.3485\n",
      "Epoch 13/20\n",
      "500/500 [==============================] - 6s 12ms/step - loss: 0.2170 - val_loss: 0.3730\n",
      "Epoch 14/20\n",
      "500/500 [==============================] - 6s 11ms/step - loss: 0.2126 - val_loss: 0.3322\n",
      "Epoch 15/20\n",
      "500/500 [==============================] - 6s 11ms/step - loss: 0.2113 - val_loss: 0.3526\n",
      "Epoch 16/20\n",
      "500/500 [==============================] - 6s 11ms/step - loss: 0.2067 - val_loss: 0.3334\n",
      "Epoch 17/20\n",
      "500/500 [==============================] - 6s 11ms/step - loss: 0.2070 - val_loss: 0.3345\n",
      "Epoch 18/20\n",
      "500/500 [==============================] - 5s 11ms/step - loss: 0.2040 - val_loss: 0.3454\n",
      "Epoch 19/20\n",
      "500/500 [==============================] - 6s 11ms/step - loss: 0.2021 - val_loss: 0.3420\n",
      "Epoch 20/20\n",
      "500/500 [==============================] - 6s 11ms/step - loss: 0.2010 - val_loss: 0.3507\n"
     ]
    }
   ],
   "source": [
    "from keras.models import Sequential\n",
    "from keras import layers\n",
    "from keras.optimizers import RMSprop\n",
    "from keras import backend as K\n",
    "\n",
    "K.clear_session()\n",
    "\n",
    "model = Sequential()\n",
    "model.add(layers.Flatten(input_shape=(lookback // step, float_data.shape[-1])))\n",
    "model.add(layers.Dense(32, activation='relu'))\n",
    "model.add(layers.Dense(1))\n",
    "\n",
    "model.compile(optimizer=RMSprop(), loss='mae')\n",
    "history = model.fit_generator(train_gen,\n",
    "                              steps_per_epoch=500,\n",
    "                              epochs=20,\n",
    "                              validation_data=val_gen,\n",
    "                              validation_steps=val_steps)"
   ]
  },
  {
   "cell_type": "code",
   "execution_count": 13,
   "metadata": {},
   "outputs": [
    {
     "data": {
      "image/png": "[encoded data removed]",
      "text/plain": [
       "<Figure size 432x288 with 1 Axes>"
      ]
     },
     "metadata": {},
     "output_type": "display_data"
    }
   ],
   "source": [
    "import matplotlib.pyplot as plt\n",
    "\n",
    "loss = history.history['loss']\n",
    "val_loss = history.history['val_loss']\n",
    "\n",
    "epochs = range(1, len(loss) + 1)\n",
    "\n",
    "plt.figure()\n",
    "\n",
    "plt.plot(epochs, loss, 'bo', label='Training loss')\n",
    "plt.plot(epochs, val_loss, 'b', label='Validation loss')\n",
    "plt.title('Training and validation loss')\n",
    "plt.legend()\n",
    "\n",
    "plt.show()"
   ]
  },
  {
   "cell_type": "markdown",
   "metadata": {},
   "source": [
    " "
   ]
  },
  {
   "cell_type": "markdown",
   "metadata": {},
   "source": [
    "### 6.4.5 첫 번째 순환 신경망\n",
    "\n",
    "첫 번째 완전 연결 네트워크는 잘 작동하지 않았습니다. 그렇다고 이 문제에 머신러닝이 적합하지 않다는 뜻은 아닙니다. **앞선 모델은 시계열 데이터를 펼쳤기 때문에 입력 데이터에서 시간 개념을 잃어버렸습니다.** 대신 인과 관계와 순서가 의미가 있는 시퀀스 데이터 그대로 사용해 보겠습니다. 이런 시퀀스 데이터에 아주 잘 들어맞는 순환 시퀀스 처리 모델을 시도해 보겠습니다. 이 모델은 앞선 모델과 달리 데이터 포인터의 **시간 순서**를 사용합니다.\n",
    "\n",
    "이전 절에서 소개한 LSTM 층 대신에 2014년에 정준영 등이 개발한 GRU 층을 사용하겠습니다. \n",
    "- GRU 층은 LSTM과 같은 원리로 작동하지만 조금 더 간결하고 그래서 계산 비용이 덜 듭니다(LSTM 만큼 표현 학습 능력이 높지는 않을 수 있습니다). \n",
    "- 계산 비용과 표현 학습 능력 사이의 트레이드오프(trade-off)는 머신 러닝 어디에서나 등장합니다."
   ]
  },
  {
   "cell_type": "code",
   "execution_count": 15,
   "metadata": {},
   "outputs": [
    {
     "name": "stdout",
     "output_type": "stream",
     "text": [
      "_________________________________________________________________\n",
      "Layer (type)                 Output Shape              Param #   \n",
      "=================================================================\n",
      "gru_1 (GRU)                  (None, 32)                4512      \n",
      "_________________________________________________________________\n",
      "dense_3 (Dense)              (None, 1)                 33        \n",
      "=================================================================\n",
      "Total params: 4,545\n",
      "Trainable params: 4,545\n",
      "Non-trainable params: 0\n",
      "_________________________________________________________________\n",
      "Epoch 1/20\n",
      "500/500 [==============================] - 78s 155ms/step - loss: 0.3042 - val_loss: 0.2692\n",
      "Epoch 2/20\n",
      "500/500 [==============================] - 77s 154ms/step - loss: 0.2822 - val_loss: 0.2636\n",
      "Epoch 3/20\n",
      "500/500 [==============================] - 77s 154ms/step - loss: 0.2773 - val_loss: 0.2639\n",
      "Epoch 4/20\n",
      "500/500 [==============================] - 77s 153ms/step - loss: 0.2716 - val_loss: 0.2634\n",
      "Epoch 5/20\n",
      "500/500 [==============================] - 77s 153ms/step - loss: 0.2665 - val_loss: 0.2635\n",
      "Epoch 6/20\n",
      "500/500 [==============================] - 77s 153ms/step - loss: 0.2624 - val_loss: 0.2632\n",
      "Epoch 7/20\n",
      "500/500 [==============================] - 77s 154ms/step - loss: 0.2554 - val_loss: 0.2671\n",
      "Epoch 8/20\n",
      "500/500 [==============================] - 77s 153ms/step - loss: 0.2509 - val_loss: 0.2664\n",
      "Epoch 9/20\n",
      "500/500 [==============================] - 77s 153ms/step - loss: 0.2471 - val_loss: 0.2732\n",
      "Epoch 10/20\n",
      "500/500 [==============================] - 77s 153ms/step - loss: 0.2427 - val_loss: 0.2726\n",
      "Epoch 11/20\n",
      "500/500 [==============================] - 77s 153ms/step - loss: 0.2388 - val_loss: 0.2725\n",
      "Epoch 12/20\n",
      "500/500 [==============================] - 77s 154ms/step - loss: 0.2330 - val_loss: 0.2789\n",
      "Epoch 13/20\n",
      "500/500 [==============================] - 77s 154ms/step - loss: 0.2292 - val_loss: 0.2819\n",
      "Epoch 14/20\n",
      "500/500 [==============================] - 77s 154ms/step - loss: 0.2253 - val_loss: 0.2831\n",
      "Epoch 15/20\n",
      "500/500 [==============================] - 77s 154ms/step - loss: 0.2216 - val_loss: 0.2904\n",
      "Epoch 16/20\n",
      "500/500 [==============================] - 77s 154ms/step - loss: 0.2184 - val_loss: 0.2913\n",
      "Epoch 17/20\n",
      "500/500 [==============================] - 77s 154ms/step - loss: 0.2130 - val_loss: 0.2934\n",
      "Epoch 18/20\n",
      "500/500 [==============================] - 77s 154ms/step - loss: 0.2119 - val_loss: 0.3024\n",
      "Epoch 19/20\n",
      "500/500 [==============================] - 77s 153ms/step - loss: 0.2084 - val_loss: 0.3047\n",
      "Epoch 20/20\n",
      "500/500 [==============================] - 77s 153ms/step - loss: 0.2044 - val_loss: 0.2987\n"
     ]
    }
   ],
   "source": [
    "from keras.models import Sequential\n",
    "from keras import layers\n",
    "from keras.optimizers import RMSprop\n",
    "\n",
    "model = Sequential()\n",
    "model.add(layers.GRU(32, input_shape=(None, float_data.shape[-1])))  # (None, 14)\n",
    "model.add(layers.Dense(1))\n",
    "model.summary()\n",
    "\n",
    "model.compile(optimizer=RMSprop(), loss='mae')\n",
    "history = model.fit_generator(train_gen,\n",
    "                              steps_per_epoch=500,\n",
    "                              epochs=20,\n",
    "                              validation_data=val_gen,\n",
    "                              validation_steps=val_steps)"
   ]
  },
  {
   "cell_type": "code",
   "execution_count": 16,
   "metadata": {},
   "outputs": [
    {
     "data": {
      "image/png": "[encoded data removed]",
      "text/plain": [
       "<Figure size 432x288 with 1 Axes>"
      ]
     },
     "metadata": {},
     "output_type": "display_data"
    }
   ],
   "source": [
    "loss = history.history['loss']\n",
    "val_loss = history.history['val_loss']\n",
    "\n",
    "epochs = range(1, len(loss) + 1)\n",
    "\n",
    "plt.figure()\n",
    "\n",
    "plt.plot(epochs, loss, 'bo', label='Training loss')\n",
    "plt.plot(epochs, val_loss, 'b', label='Validation loss')\n",
    "plt.title('Training and validation loss')\n",
    "plt.legend()\n",
    "\n",
    "plt.show()"
   ]
  },
  {
   "cell_type": "markdown",
   "metadata": {},
   "source": [
    "훨씬 좋군요! 상식 수준의 모델을 크게 앞질렀습니다. 이 그림은 시퀀스를 펼쳐서 처리하는 완전 연결 네트워크에 비해서 순환 네트워크가 이런 종류의 작업에 훨씬 뛰어나다는 것과 머신 러닝의 가치를 보여줍니다.\n",
    "\n",
    "새로운 검증 MAE는 0.265 이하(크게 과대적합되기 시작하는 곳)이고 정규화되기 전인 섭씨로 복원하면 MAE는 2.35°C입니다. 초기 에러 2.57°C보다는 확실히 낫지만 더 개선할 수 있을 것 같습니다."
   ]
  },
  {
   "cell_type": "markdown",
   "metadata": {},
   "source": [
    " "
   ]
  },
  {
   "cell_type": "markdown",
   "metadata": {},
   "source": [
    "### 6.3.6 과대적합을 감소하기 위해 순환 드롭아웃 사용하기\n",
    "\n",
    "훈련 손실과 검증 손실 곡선을 보면 모델이 과대적합인지 알 수 있습니다. 몇 번의 에포크 이후에 훈련 손실과 검증 손실이 현저하게 벌어지기 시작합니다. 이런 현상을 해결하기 위해 잘 알려진 드롭아웃 기법을 이미 보았습니다. 훈련 데이터를 층에 주입할 때 데이터에 있는 우연한 상관 관계를 깨뜨리기 위해 입력 층의 유닛을 랜덤하게 끄는 기법입니다. \n",
    "\n",
    "순환 신경망에 드롭아웃을 올바르게 적용하는 방법은 간단하지 않습니다. 순환 층 이전에 드롭아웃을 적용하면 규제에 도움이 되는 것보다 학습에 더 방해되는 것으로 오랫동안 알려졌습니다. 2015년 야린 갈이 베이지안 딥러닝에 관한 박사 논문에서 순환 네트워크에 적절하게 드롭아웃을 사용하는 방법을 알아 내었습니다. \n",
    "\n",
    "- 타임스텝마다 랜덤하게 드롭아웃 마스크를 바꾸는 것이 아니라 동일한 드롭아웃 마스크(동일한 유닛의 드롭 패턴)를 모든 타임스텝에 적용해야 합니다. \n",
    "\n",
    "- GRU이나 LSTM 같은 순환 게이트에 의해 만들어지는 표현을 규제하려면 순환 층 내부 계산에 사용된 활성화 함수에 타임스텝마다 동일한 드롭아웃 마스크를 적용해야 합니다(순환 드롭 아웃 마스크). \n",
    "\n",
    "- 모든 타임스텝에 동일한 드롭아웃 마스크를 적용하면 네트워크가 학습 오차를 타임스템에 걸쳐 적절하게 전파시킬 것입니다. 타임스텝마다 랜덤한 드롭아웃 마스크를 적용하면 오차 신호가 전파되는 것을 방해하고 학습 과정에 해를 끼칩니다.\n",
    "\n",
    "야린 갈은 케라스를 사용해 연구를 하였고 케라스 순환 층에 이 기능을 구현하는 데 도움을 주었습니다. \n",
    "\n",
    "케라스에 있는 모든 순환 층은 두 개의 드롭아웃 매개변수를 가지고 있습니다. \n",
    "\n",
    "- **dropout**은 층의 입력에 대한 드롭아웃 비율을 정하는 부동 소수 값입니다. \n",
    "\n",
    "- **recurrent_dropout**은 순환 상태의 드롭아웃 비율을 정합니다. \n",
    "\n",
    "GRU 층에 드롭아웃과 순환 드롭아웃을 적용해 과대적합에 어떤 영향을 미치는지 살펴보겠습니다. 드롭아웃으로 규제된 네트워크는 언제나 완전히 수렴하는 데 더 오래 걸립니다. 에포크를 두 배 더 늘려 네트워크를 훈련하겠습니다."
   ]
  },
  {
   "cell_type": "code",
   "execution_count": 21,
   "metadata": {},
   "outputs": [
    {
     "name": "stdout",
     "output_type": "stream",
     "text": [
      "_________________________________________________________________\n",
      "Layer (type)                 Output Shape              Param #   \n",
      "=================================================================\n",
      "gru_1 (GRU)                  (None, 32)                4512      \n",
      "_________________________________________________________________\n",
      "dense_1 (Dense)              (None, 1)                 33        \n",
      "=================================================================\n",
      "Total params: 4,545\n",
      "Trainable params: 4,545\n",
      "Non-trainable params: 0\n",
      "_________________________________________________________________\n",
      "Epoch 1/40\n",
      "500/500 [==============================] - 88s 175ms/step - loss: 0.3355 - mean_absolute_error: 0.3355 - val_loss: 0.2781 - val_mean_absolute_error: 0.2781\n",
      "Epoch 2/40\n",
      "500/500 [==============================] - 87s 175ms/step - loss: 0.3145 - mean_absolute_error: 0.3145 - val_loss: 0.2778 - val_mean_absolute_error: 0.2778\n",
      "Epoch 3/40\n",
      "500/500 [==============================] - 87s 174ms/step - loss: 0.3079 - mean_absolute_error: 0.3079 - val_loss: 0.2721 - val_mean_absolute_error: 0.2721\n",
      "Epoch 4/40\n",
      "500/500 [==============================] - 87s 174ms/step - loss: 0.3040 - mean_absolute_error: 0.3040 - val_loss: 0.2713 - val_mean_absolute_error: 0.2713\n",
      "Epoch 5/40\n",
      "500/500 [==============================] - 87s 174ms/step - loss: 0.3011 - mean_absolute_error: 0.3011 - val_loss: 0.2677 - val_mean_absolute_error: 0.2677\n",
      "Epoch 6/40\n",
      "500/500 [==============================] - 87s 174ms/step - loss: 0.2989 - mean_absolute_error: 0.2989 - val_loss: 0.2661 - val_mean_absolute_error: 0.2661\n",
      "Epoch 7/40\n",
      "500/500 [==============================] - 87s 174ms/step - loss: 0.2956 - mean_absolute_error: 0.2956 - val_loss: 0.2634 - val_mean_absolute_error: 0.2634\n",
      "Epoch 8/40\n",
      "500/500 [==============================] - 87s 175ms/step - loss: 0.2953 - mean_absolute_error: 0.2953 - val_loss: 0.2676 - val_mean_absolute_error: 0.2676\n",
      "Epoch 9/40\n",
      "500/500 [==============================] - 87s 174ms/step - loss: 0.2908 - mean_absolute_error: 0.2908 - val_loss: 0.2669 - val_mean_absolute_error: 0.2669\n",
      "Epoch 10/40\n",
      "500/500 [==============================] - 87s 174ms/step - loss: 0.2913 - mean_absolute_error: 0.2913 - val_loss: 0.2672 - val_mean_absolute_error: 0.2672\n",
      "Epoch 11/40\n",
      "500/500 [==============================] - 87s 174ms/step - loss: 0.2894 - mean_absolute_error: 0.2894 - val_loss: 0.2685 - val_mean_absolute_error: 0.2685\n",
      "Epoch 12/40\n",
      "500/500 [==============================] - 87s 174ms/step - loss: 0.2894 - mean_absolute_error: 0.2894 - val_loss: 0.2612 - val_mean_absolute_error: 0.2612\n",
      "Epoch 13/40\n",
      "500/500 [==============================] - 87s 174ms/step - loss: 0.2863 - mean_absolute_error: 0.2863 - val_loss: 0.2651 - val_mean_absolute_error: 0.2651\n",
      "Epoch 14/40\n",
      "500/500 [==============================] - 87s 174ms/step - loss: 0.2868 - mean_absolute_error: 0.2868 - val_loss: 0.2625 - val_mean_absolute_error: 0.2625\n",
      "Epoch 15/40\n",
      "500/500 [==============================] - 87s 174ms/step - loss: 0.2869 - mean_absolute_error: 0.2869 - val_loss: 0.2631 - val_mean_absolute_error: 0.2631\n",
      "Epoch 16/40\n",
      "500/500 [==============================] - 87s 175ms/step - loss: 0.2851 - mean_absolute_error: 0.2851 - val_loss: 0.2650 - val_mean_absolute_error: 0.2650\n",
      "Epoch 17/40\n",
      "500/500 [==============================] - 87s 175ms/step - loss: 0.2834 - mean_absolute_error: 0.2834 - val_loss: 0.2637 - val_mean_absolute_error: 0.2637\n",
      "Epoch 18/40\n",
      "500/500 [==============================] - 87s 175ms/step - loss: 0.2841 - mean_absolute_error: 0.2841 - val_loss: 0.2624 - val_mean_absolute_error: 0.2624\n",
      "Epoch 19/40\n",
      "500/500 [==============================] - 87s 174ms/step - loss: 0.2817 - mean_absolute_error: 0.2817 - val_loss: 0.2640 - val_mean_absolute_error: 0.2640\n",
      "Epoch 20/40\n",
      "500/500 [==============================] - 87s 175ms/step - loss: 0.2810 - mean_absolute_error: 0.2810 - val_loss: 0.2621 - val_mean_absolute_error: 0.2621\n",
      "Epoch 21/40\n",
      "500/500 [==============================] - 87s 174ms/step - loss: 0.2798 - mean_absolute_error: 0.2798 - val_loss: 0.2650 - val_mean_absolute_error: 0.2650\n",
      "Epoch 22/40\n",
      "500/500 [==============================] - 87s 174ms/step - loss: 0.2804 - mean_absolute_error: 0.2804 - val_loss: 0.2617 - val_mean_absolute_error: 0.2617\n",
      "Epoch 23/40\n",
      "500/500 [==============================] - 87s 174ms/step - loss: 0.2784 - mean_absolute_error: 0.2784 - val_loss: 0.2598 - val_mean_absolute_error: 0.2598\n",
      "Epoch 24/40\n",
      "500/500 [==============================] - 87s 174ms/step - loss: 0.2770 - mean_absolute_error: 0.2770 - val_loss: 0.2629 - val_mean_absolute_error: 0.2629\n",
      "Epoch 25/40\n",
      "500/500 [==============================] - 87s 174ms/step - loss: 0.2772 - mean_absolute_error: 0.2772 - val_loss: 0.2685 - val_mean_absolute_error: 0.2685\n",
      "Epoch 26/40\n",
      "500/500 [==============================] - 87s 174ms/step - loss: 0.2779 - mean_absolute_error: 0.2779 - val_loss: 0.2629 - val_mean_absolute_error: 0.2629\n",
      "Epoch 27/40\n",
      "500/500 [==============================] - 87s 174ms/step - loss: 0.2763 - mean_absolute_error: 0.2763 - val_loss: 0.2632 - val_mean_absolute_error: 0.2632\n",
      "Epoch 28/40\n",
      "500/500 [==============================] - 87s 174ms/step - loss: 0.2761 - mean_absolute_error: 0.2761 - val_loss: 0.2618 - val_mean_absolute_error: 0.2618\n",
      "Epoch 29/40\n",
      "500/500 [==============================] - 87s 174ms/step - loss: 0.2739 - mean_absolute_error: 0.2739 - val_loss: 0.2629 - val_mean_absolute_error: 0.2629\n",
      "Epoch 30/40\n",
      "500/500 [==============================] - 87s 174ms/step - loss: 0.2759 - mean_absolute_error: 0.2759 - val_loss: 0.2627 - val_mean_absolute_error: 0.2627\n",
      "Epoch 31/40\n",
      "500/500 [==============================] - 87s 174ms/step - loss: 0.2744 - mean_absolute_error: 0.2744 - val_loss: 0.2610 - val_mean_absolute_error: 0.2610\n",
      "Epoch 32/40\n",
      "500/500 [==============================] - 87s 174ms/step - loss: 0.2744 - mean_absolute_error: 0.2744 - val_loss: 0.2635 - val_mean_absolute_error: 0.2635\n",
      "Epoch 33/40\n",
      "500/500 [==============================] - 87s 175ms/step - loss: 0.2736 - mean_absolute_error: 0.2736 - val_loss: 0.2616 - val_mean_absolute_error: 0.2616\n",
      "Epoch 34/40\n",
      "500/500 [==============================] - 87s 175ms/step - loss: 0.2719 - mean_absolute_error: 0.2719 - val_loss: 0.2653 - val_mean_absolute_error: 0.2653\n",
      "Epoch 35/40\n",
      "500/500 [==============================] - 87s 175ms/step - loss: 0.2737 - mean_absolute_error: 0.2737 - val_loss: 0.2599 - val_mean_absolute_error: 0.2599\n",
      "Epoch 36/40\n",
      "500/500 [==============================] - 87s 174ms/step - loss: 0.2708 - mean_absolute_error: 0.2708 - val_loss: 0.2675 - val_mean_absolute_error: 0.2675\n",
      "Epoch 37/40\n",
      "500/500 [==============================] - 87s 174ms/step - loss: 0.2708 - mean_absolute_error: 0.2708 - val_loss: 0.2604 - val_mean_absolute_error: 0.2604\n",
      "Epoch 38/40\n",
      "500/500 [==============================] - 87s 174ms/step - loss: 0.2714 - mean_absolute_error: 0.2714 - val_loss: 0.2697 - val_mean_absolute_error: 0.2697\n",
      "Epoch 39/40\n",
      "500/500 [==============================] - 87s 174ms/step - loss: 0.2706 - mean_absolute_error: 0.2706 - val_loss: 0.2711 - val_mean_absolute_error: 0.2711\n",
      "Epoch 40/40\n",
      "500/500 [==============================] - 87s 174ms/step - loss: 0.2697 - mean_absolute_error: 0.2697 - val_loss: 0.2636 - val_mean_absolute_error: 0.2636\n",
      "CPU times: user 1h 20min 41s, sys: 3min 24s, total: 1h 24min 6s\n",
      "Wall time: 58min 9s\n"
     ]
    }
   ],
   "source": [
    "%%time\n",
    "from keras import backend as K\n",
    "from keras.models import Sequential\n",
    "from keras import layers\n",
    "from keras.optimizers import RMSprop\n",
    "\n",
    "K.clear_session()\n",
    "\n",
    "model = Sequential()\n",
    "model.add(layers.GRU(32, \n",
    "                     dropout=0.2, \n",
    "                     recurrent_dropout=0.2,\n",
    "                     input_shape=(None, float_data.shape[-1])))\n",
    "model.add(layers.Dense(1))\n",
    "model.summary()\n",
    "\n",
    "model.compile(optimizer=RMSprop(), loss='mae', metrics=['mae'])\n",
    "history = model.fit_generator(train_gen,\n",
    "                              steps_per_epoch=500,\n",
    "                              epochs=40,\n",
    "                              validation_data=val_gen,\n",
    "                              validation_steps=val_steps)"
   ]
  },
  {
   "cell_type": "code",
   "execution_count": 22,
   "metadata": {},
   "outputs": [
    {
     "data": {
      "image/png": "[encoded data removed]",
      "text/plain": [
       "<Figure size 432x288 with 1 Axes>"
      ]
     },
     "metadata": {},
     "output_type": "display_data"
    }
   ],
   "source": [
    "loss = history.history['loss']\n",
    "val_loss = history.history['val_loss']\n",
    "\n",
    "epochs = range(1, len(loss) + 1)\n",
    "\n",
    "plt.figure()\n",
    "\n",
    "plt.plot(epochs, loss, 'bo', label='Training loss')\n",
    "plt.plot(epochs, val_loss, 'b', label='Validation loss')\n",
    "plt.title('Training and validation loss')\n",
    "plt.legend()\n",
    "\n",
    "plt.show()"
   ]
  },
  {
   "cell_type": "markdown",
   "metadata": {},
   "source": [
    " "
   ]
  },
  {
   "cell_type": "markdown",
   "metadata": {},
   "source": [
    "성공이네요! 30번째 에포크까지 과대적합이 일어나지 않았습니다. 평가 점수는 안정적이지만 이전보다 더 나아지진 않았습니다."
   ]
  },
  {
   "cell_type": "markdown",
   "metadata": {},
   "source": [
    " "
   ]
  },
  {
   "cell_type": "markdown",
   "metadata": {},
   "source": [
    "### 6.3.7 스태킹 순환 층\n",
    "\n",
    "과대적합은 더 이상 없지만 성능상의 병목이 있는 것 같으므로 네트워크의 용량을 늘려야 합니다. 일반적인 머신 러닝 작업 흐름을 기억하세요. \n",
    "\n",
    "1. 드롭아웃 등을 사용하여 과대적합을 줄이는 기본 단계를 거쳤다고 가정하고,\n",
    "\n",
    "2. 과대적합이 일어날 때까지 네트워크의 용량을 늘리는 것이 좋습니다. 너무 많이 과대적합되지 않는 한 아직 충분한 용량에 도달한 것이 아닙니다.\n",
    "\n",
    "네트워크의 용량을 늘리려면 일반적으로 층에 있는 유닛의 수를 늘리거나 층을 더 많이 추가합니다. 순환 층 스태킹은 더 강력한 순환 네트워크를 만드는 고전적인 방법입니다. 예를 들어 구글 번역 알고리즘의 현재 성능은 7개의 대규모 LSTM 층을 쌓은 대규모 모델에서 나온 것입니다.\n",
    "\n",
    "케라스에서 순환 층을 차례대로 쌓으려면 모든 중간 층은 마지막 타임스텝 출력만이 아니고 전체 시퀀스(3D 텐서)를 출력해야 합니다. `return_sequences=True`로 지정하면 됩니다:"
   ]
  },
  {
   "cell_type": "code",
   "execution_count": null,
   "metadata": {},
   "outputs": [
    {
     "name": "stdout",
     "output_type": "stream",
     "text": [
      "_________________________________________________________________\n",
      "Layer (type)                 Output Shape              Param #   \n",
      "=================================================================\n",
      "gru_1 (GRU)                  (None, None, 32)          4512      \n",
      "_________________________________________________________________\n",
      "gru_2 (GRU)                  (None, 64)                18624     \n",
      "_________________________________________________________________\n",
      "dense_1 (Dense)              (None, 1)                 65        \n",
      "=================================================================\n",
      "Total params: 23,201\n",
      "Trainable params: 23,201\n",
      "Non-trainable params: 0\n",
      "_________________________________________________________________\n",
      "Epoch 1/10\n",
      "500/500 [==============================] - 180s 360ms/step - loss: 0.3363 - val_loss: 0.2794\n",
      "Epoch 2/10\n",
      "500/500 [==============================] - 178s 356ms/step - loss: 0.3130 - val_loss: 0.2711\n",
      "Epoch 3/10\n",
      "500/500 [==============================] - 178s 356ms/step - loss: 0.3094 - val_loss: 0.2701\n",
      "Epoch 4/10\n",
      "500/500 [==============================] - 178s 356ms/step - loss: 0.3038 - val_loss: 0.2674\n",
      "Epoch 5/10\n",
      "500/500 [==============================] - 178s 356ms/step - loss: 0.2964 - val_loss: 0.2685\n",
      "Epoch 6/10\n",
      " 81/500 [===>..........................] - ETA: 1:51 - loss: 0.2997"
     ]
    }
   ],
   "source": [
    "from keras.models import Sequential\n",
    "from keras import layers\n",
    "from keras.optimizers import RMSprop\n",
    "\n",
    "K.clear_session()\n",
    "\n",
    "model = Sequential()\n",
    "model.add(layers.GRU(32,\n",
    "                     dropout=0.1,\n",
    "                     recurrent_dropout=0.5,\n",
    "                     return_sequences=True,\n",
    "                     input_shape=(None, float_data.shape[-1])))\n",
    "model.add(layers.GRU(64, activation='relu',\n",
    "                     dropout=0.1, \n",
    "                     recurrent_dropout=0.5))\n",
    "model.add(layers.Dense(1))\n",
    "model.summary()\n",
    "\n",
    "model.compile(optimizer=RMSprop(), loss='mae')\n",
    "history = model.fit_generator(train_gen,\n",
    "                              steps_per_epoch=500,\n",
    "                              epochs=40,\n",
    "                              validation_data=val_gen,\n",
    "                              validation_steps=val_steps)"
   ]
  },
  {
   "cell_type": "code",
   "execution_count": 26,
   "metadata": {},
   "outputs": [
    {
     "data": {
      "image/png": "[encoded data removed]",
      "text/plain": [
       "<Figure size 432x288 with 1 Axes>"
      ]
     },
     "metadata": {},
     "output_type": "display_data"
    }
   ],
   "source": [
    "loss = history.history['loss']\n",
    "val_loss = history.history['val_loss']\n",
    "\n",
    "epochs = range(1, len(loss) + 1)\n",
    "\n",
    "plt.figure()\n",
    "\n",
    "plt.plot(epochs, loss, 'bo', label='Training loss')\n",
    "plt.plot(epochs, val_loss, 'b', label='Validation loss')\n",
    "plt.title('Training and validation loss')\n",
    "plt.legend()\n",
    "\n",
    "plt.show()"
   ]
  },
  {
   "cell_type": "markdown",
   "metadata": {},
   "source": [
    " "
   ]
  },
  {
   "cell_type": "markdown",
   "metadata": {},
   "source": [
    "층을 추가하여 성능을 조금 향상시켰지만 크지는 않습니다. 여기서 두 가지 결론을 얻을 수 있습니다:\n",
    "\n",
    "- 아직 충분히 과대적합을 만들지 못했기 때문에 검증 손실을 향상하기 위해서 층의 크기를 늘릴 수 있습니다. 하지만 적지 않은 계산 비용이 추가됩니다.\n",
    "\n",
    "- 층을 추가한 만큼 도움이 되지 않았으므로 여기서는 네트워크의 용량을 늘리는 것이 도움이 되지 않는다고 볼 수 있습니다."
   ]
  },
  {
   "cell_type": "markdown",
   "metadata": {},
   "source": [
    " "
   ]
  },
  {
   "cell_type": "markdown",
   "metadata": {},
   "source": [
    "### 6.3.8 양방향 RNN(Bidirectional RNN) 사용하기\n",
    "\n",
    "이 절에서 소개할 마지막 기법은 **양방향 RNN**(Bidirectional RNN)입니다. 양방향 RNN은 RNN의 한 변종이고 특정 작업에서 기본 RNN 보다 훨씬 좋은 성능을 냅니다. 자연어 처리에서는 맥가이버 칼이라고 할 정도로 즐겨 사용됩니다.\n",
    "\n",
    "**RNN은 특히 순서 또는 시간에 민감**합니다. 즉, 입력 시퀀스의 타입스텝 순서대로 처리합니다. 타입스텝을 섞거나 거꾸로 하면 RNN이 시퀀스에서 학습하는 표현을 완전히 바꾸어 버립니다. 이는 온도 예측과 같이 순서에 의미가 있는 문제에 잘 맞는 이유이기도 합니다. \n",
    "\n",
    "양방향 RNN은 RNN이 순서에 민감하다는 성질을 사용합니다. 앞서 보았던 GRU나 LSTM 같은 RNN 두 개를 사용합니다. 각 RNN은 입력 시퀀스를 한 방향(시간의 순서나 반대 순서)으로 처리한 다음 각 표현을 합칩니다. 시퀀스를 양쪽 방향으로 처리하기 때문에 양방향 RNN은 단방향 RNN이 놓치기 쉬운 패턴을 감지할 수 있습니다.\n",
    "\n",
    "\n",
    "![](./images/rnn-vs-brnn.png)\n",
    "\n",
    "\n",
    "놀랍게도 이 절에 있는 RNN 층이 시간의 순서대로 (오래된 타임스텝이 먼저 나오도록) 시퀀스를 처리하는 것은 근거 없는 결정입니다. 적어도 이 결정을 궁금해하지 않았습니다. 시간의 반대 방향으로 (최근 타임스텝이 먼저 나오도록) 입력 시퀀스를 처리하면 만족할만한 RNN 성능을 낼 수 있을까요? 실제 이렇게 해 보고 결과가 어떤지 확인해 보죠. 해야 할 일은 입력 시퀀스를 시간 차원을 따라 거꾸로 생성하는 데이터 제너레이터 만드는 것 뿐입니다(제너레이터 함수의 마지막 줄을 yield samples[:, ::-1, :], targets로 바꿉니다). 이 절의 첫 번째 예제와 동일하게 하나의 GRU 층을 가진 네트워크를 훈련합니다:"
   ]
  },
  {
   "cell_type": "markdown",
   "metadata": {},
   "source": [
    "#### 순서를 뒤집어서 학습시키기 - 온도"
   ]
  },
  {
   "cell_type": "code",
   "execution_count": 10,
   "metadata": {},
   "outputs": [],
   "source": [
    "def reverse_order_generator(data, lookback, delay, min_index, max_index,\n",
    "                            shuffle=False, batch_size=128, step=6):\n",
    "    if max_index is None:\n",
    "        max_index = len(data) - delay - 1\n",
    "    i = min_index + lookback\n",
    "    while 1:\n",
    "        if shuffle:\n",
    "            rows = np.random.randint(\n",
    "                min_index + lookback, max_index, size=batch_size)\n",
    "        else:\n",
    "            if i + batch_size >= max_index:\n",
    "                i = min_index + lookback\n",
    "            rows = np.arange(i, min(i + batch_size, max_index))\n",
    "            i += len(rows)\n",
    "\n",
    "        samples = np.zeros((len(rows),\n",
    "                           lookback // step,\n",
    "                           data.shape[-1]))\n",
    "        targets = np.zeros((len(rows),))\n",
    "        for j, row in enumerate(rows):\n",
    "            indices = range(rows[j] - lookback, rows[j], step)\n",
    "            samples[j] = data[indices]\n",
    "            targets[j] = data[rows[j] + delay][1]\n",
    "        yield samples[:, ::-1, :], targets\n",
    "        \n",
    "train_gen_reverse = reverse_order_generator(\n",
    "    float_data,\n",
    "    lookback=lookback,\n",
    "    delay=delay,\n",
    "    min_index=0,\n",
    "    max_index=200000,\n",
    "    shuffle=True,\n",
    "    step=step, \n",
    "    batch_size=batch_size)\n",
    "val_gen_reverse = reverse_order_generator(\n",
    "    float_data,\n",
    "    lookback=lookback,\n",
    "    delay=delay,\n",
    "    min_index=200001,\n",
    "    max_index=300000,\n",
    "    step=step,\n",
    "    batch_size=batch_size)"
   ]
  },
  {
   "cell_type": "code",
   "execution_count": 12,
   "metadata": {},
   "outputs": [
    {
     "name": "stdout",
     "output_type": "stream",
     "text": [
      "Epoch 1/20\n",
      "500/500 [==============================] - 78s 156ms/step - loss: 0.4822 - val_loss: 0.4829\n",
      "Epoch 2/20\n",
      "500/500 [==============================] - 77s 153ms/step - loss: 0.4418 - val_loss: 0.4620\n",
      "Epoch 3/20\n",
      "500/500 [==============================] - 77s 153ms/step - loss: 0.4005 - val_loss: 0.4752\n",
      "Epoch 4/20\n",
      "500/500 [==============================] - 77s 153ms/step - loss: 0.3627 - val_loss: 0.4679\n",
      "Epoch 5/20\n",
      "500/500 [==============================] - 76s 152ms/step - loss: 0.3316 - val_loss: 0.4753\n",
      "Epoch 6/20\n",
      "500/500 [==============================] - 76s 152ms/step - loss: 0.3149 - val_loss: 0.4861\n",
      "Epoch 7/20\n",
      "500/500 [==============================] - 77s 154ms/step - loss: 0.3008 - val_loss: 0.4571\n",
      "Epoch 8/20\n",
      "500/500 [==============================] - 77s 154ms/step - loss: 0.2879 - val_loss: 0.4453\n",
      "Epoch 9/20\n",
      "500/500 [==============================] - 77s 154ms/step - loss: 0.2765 - val_loss: 0.4394\n",
      "Epoch 10/20\n",
      "500/500 [==============================] - 78s 155ms/step - loss: 0.2716 - val_loss: 0.4456\n",
      "Epoch 11/20\n",
      "500/500 [==============================] - 78s 156ms/step - loss: 0.2630 - val_loss: 0.4211\n",
      "Epoch 12/20\n",
      "500/500 [==============================] - 77s 155ms/step - loss: 0.2564 - val_loss: 0.4339\n",
      "Epoch 13/20\n",
      "500/500 [==============================] - 77s 154ms/step - loss: 0.2539 - val_loss: 0.4335\n",
      "Epoch 14/20\n",
      "500/500 [==============================] - 78s 155ms/step - loss: 0.2490 - val_loss: 0.4357\n",
      "Epoch 15/20\n",
      "500/500 [==============================] - 78s 155ms/step - loss: 0.2448 - val_loss: 0.4274\n",
      "Epoch 16/20\n",
      "500/500 [==============================] - 78s 155ms/step - loss: 0.2418 - val_loss: 0.4347\n",
      "Epoch 17/20\n",
      "500/500 [==============================] - 76s 153ms/step - loss: 0.2377 - val_loss: 0.4344\n",
      "Epoch 18/20\n",
      "500/500 [==============================] - 75s 151ms/step - loss: 0.2362 - val_loss: 0.4472\n",
      "Epoch 19/20\n",
      "500/500 [==============================] - 76s 151ms/step - loss: 0.2327 - val_loss: 0.4412\n",
      "Epoch 20/20\n",
      "500/500 [==============================] - 76s 151ms/step - loss: 0.2281 - val_loss: 0.4298\n"
     ]
    }
   ],
   "source": [
    "from keras.models import Sequential\n",
    "from keras import layers\n",
    "from keras.optimizers import RMSprop\n",
    "\n",
    "model = Sequential()\n",
    "model.add(layers.GRU(32, input_shape=(None, float_data.shape[-1])))\n",
    "model.add(layers.Dense(1))\n",
    "\n",
    "model.compile(optimizer=RMSprop(), loss='mae')\n",
    "history = model.fit_generator(train_gen_reverse,\n",
    "                              steps_per_epoch=500,\n",
    "                              epochs=20,\n",
    "                              validation_data=val_gen_reverse,\n",
    "                              validation_steps=val_steps)"
   ]
  },
  {
   "cell_type": "code",
   "execution_count": 13,
   "metadata": {},
   "outputs": [
    {
     "data": {
      "image/png": "[encoded data removed]",
      "text/plain": [
       "<Figure size 432x288 with 1 Axes>"
      ]
     },
     "metadata": {},
     "output_type": "display_data"
    }
   ],
   "source": [
    "import matplotlib.pyplot as plt\n",
    "\n",
    "loss = history.history['loss']\n",
    "val_loss = history.history['val_loss']\n",
    "\n",
    "epochs = range(1, len(loss) + 1)\n",
    "\n",
    "plt.figure()\n",
    "\n",
    "plt.plot(epochs, loss, 'bo', label='Training loss')\n",
    "plt.plot(epochs, val_loss, 'b', label='Validation loss')\n",
    "plt.title('Training and validation loss')\n",
    "plt.legend()\n",
    "\n",
    "plt.show()"
   ]
  },
  {
   "cell_type": "markdown",
   "metadata": {},
   "source": [
    "순서를 뒤집은 GRU는 상식 수준의 기준점보다도 성능이 낮습니다. 이 경우에는 시간 순서대로 처리하는 것이 중요한 역할을 합니다. 사실 이는 당연합니다. \n",
    "\n",
    "기본적인 GRU 층은 먼 과거보다 최근 내용을 잘 기억합니다. 또한, 최근에 가까운 날씨 데이터 포인트일수록 오래된 데이터 포인트보다 예측에 유용합니다(상식 수준의 기준점이 꽤 강력한 이유입니다). 시간 순서대로 처리하는 네트워크가 거꾸로 처리하는 것보다 성능이 높아야만 합니다. \n",
    "\n",
    "하지만 자연어 처리를 포함하여 다른 많은 문제에서는 그렇지 않습니다. 문장을 이해하는데 있어서 단어의 중요성은 단어가 문장 어디에 놓여 있는지에 따라 결정되지 않습니다. 같은 기법을 이전 절의 LSTM IMDB 예제에 적용해 보죠:"
   ]
  },
  {
   "cell_type": "markdown",
   "metadata": {},
   "source": [
    " "
   ]
  },
  {
   "cell_type": "markdown",
   "metadata": {},
   "source": [
    "#### 순서를 뒤집어서 학습시키기 - Imdb"
   ]
  },
  {
   "cell_type": "code",
   "execution_count": 14,
   "metadata": {},
   "outputs": [
    {
     "name": "stdout",
     "output_type": "stream",
     "text": [
      "Train on 20000 samples, validate on 5000 samples\n",
      "Epoch 1/10\n",
      "20000/20000 [==============================] - 51s 3ms/step - loss: 0.4867 - acc: 0.7703 - val_loss: 0.3891 - val_acc: 0.8488\n",
      "Epoch 2/10\n",
      "20000/20000 [==============================] - 51s 3ms/step - loss: 0.3152 - acc: 0.8792 - val_loss: 0.3758 - val_acc: 0.8378\n",
      "Epoch 3/10\n",
      "20000/20000 [==============================] - 51s 3ms/step - loss: 0.2924 - acc: 0.8990 - val_loss: 0.3251 - val_acc: 0.8734\n",
      "Epoch 4/10\n",
      "20000/20000 [==============================] - 51s 3ms/step - loss: 0.2212 - acc: 0.9200 - val_loss: 0.3678 - val_acc: 0.8810\n",
      "Epoch 5/10\n",
      "20000/20000 [==============================] - 51s 3ms/step - loss: 0.1993 - acc: 0.9298 - val_loss: 0.3741 - val_acc: 0.8770\n",
      "Epoch 6/10\n",
      "20000/20000 [==============================] - 51s 3ms/step - loss: 0.1777 - acc: 0.9371 - val_loss: 0.3487 - val_acc: 0.8786\n",
      "Epoch 7/10\n",
      "20000/20000 [==============================] - 50s 3ms/step - loss: 0.1523 - acc: 0.9482 - val_loss: 0.3690 - val_acc: 0.8692\n",
      "Epoch 8/10\n",
      "20000/20000 [==============================] - 51s 3ms/step - loss: 0.1395 - acc: 0.9535 - val_loss: 0.4202 - val_acc: 0.8572\n",
      "Epoch 9/10\n",
      "20000/20000 [==============================] - 51s 3ms/step - loss: 0.1301 - acc: 0.9560 - val_loss: 0.3788 - val_acc: 0.8434\n",
      "Epoch 10/10\n",
      "20000/20000 [==============================] - 51s 3ms/step - loss: 0.1250 - acc: 0.9598 - val_loss: 0.3953 - val_acc: 0.8492\n"
     ]
    }
   ],
   "source": [
    "from keras.datasets import imdb\n",
    "from keras.preprocessing import sequence\n",
    "from keras import layers\n",
    "from keras.models import Sequential\n",
    "\n",
    "# 특성으로 사용할 단어의 수\n",
    "max_features = 10000\n",
    "# 사용할 텍스트의 길이(가장 빈번한 max_features 개의 단어만 사용합니다)\n",
    "maxlen = 500\n",
    "\n",
    "# 데이터 로드\n",
    "(x_train, y_train), (x_test, y_test) = imdb.load_data(num_words=max_features)\n",
    "\n",
    "# 시퀀스를 뒤집습니다\n",
    "x_train = [x[::-1] for x in x_train]\n",
    "x_test = [x[::-1] for x in x_test]\n",
    "\n",
    "# 시퀀스에 패딩을 추가합니다\n",
    "x_train = sequence.pad_sequences(x_train, maxlen=maxlen)\n",
    "x_test = sequence.pad_sequences(x_test, maxlen=maxlen)\n",
    "\n",
    "model = Sequential()\n",
    "model.add(layers.Embedding(max_features, 128))\n",
    "model.add(layers.LSTM(32))\n",
    "model.add(layers.Dense(1, activation='sigmoid'))\n",
    "\n",
    "model.compile(optimizer='rmsprop',\n",
    "              loss='binary_crossentropy',\n",
    "              metrics=['acc'])\n",
    "history = model.fit(x_train, y_train,\n",
    "                    epochs=10,\n",
    "                    batch_size=128,\n",
    "                    validation_split=0.2)"
   ]
  },
  {
   "cell_type": "markdown",
   "metadata": {},
   "source": [
    " "
   ]
  },
  {
   "cell_type": "markdown",
   "metadata": {},
   "source": [
    "시간 순서로 훈련한 LSTM과 거의 동일한 성능을 얻을 수 있습니다. 놀랍게도 이런 **텍스트 데이터셋에는 순서를 뒤집어 처리하는 것이 시간 순서대로 처리하는 것과 거의 동일하게 잘 작동**합니다. \n",
    "\n",
    "- **이는 언어를 이해하는 데 단어의 순서가 중요하지만 결정적이지는 않다는 가정을 뒷받침합니다.**\n",
    "\n",
    "거꾸로 된 시퀀스에서 훈련한 RNN은 원래 시퀀스에서 훈련한 것과는 다른 표현을 학습합니다. 이와 비슷하게 시작할 때 죽고 마지막 날 태어나는 삶처럼 실제 세상의 시간이 거꾸로 흘러간다면 우리의 정신 세계가 달라질 것입니다. \n",
    "\n",
    "머신 러닝에서 다른 표현이 유용하다면 항상 사용할 가치가 있습니다. 이 표현이 많이 다를수록 더 좋습니다. 이 표현이 데이터를 바라보는 새로운 시각을 제공하고 다른 방식에서는 놓칠 수 있는 데이터의 특징을 잡아냅니다. 이런 표현은 작업의 성능을 올리는 데 도움을 줍니다. 이것이 다음 장에서 살펴볼 앙상블의 개념입니다.\n",
    "\n",
    "양방향 RNN은 이 아이디어를 사용하여 시간 순서대로 처리하는 RNN의 성능을 향상시킵니다. **입력 시퀀스를 양쪽 방향으로 바라보기 때문에, 드러나지 않은 다양한 표현을 얻어 시간 순서대로 처리할 때 놓칠 수 있는 패턴을 잡아 냅니다.**"
   ]
  },
  {
   "cell_type": "markdown",
   "metadata": {},
   "source": [
    " "
   ]
  },
  {
   "cell_type": "markdown",
   "metadata": {},
   "source": [
    "#### 케라스의 `Bidirectional` 레이어를 이용해 학습시키기 - Imdb\n",
    "\n",
    "케라스에서는 [Bidirectional](https://keras.io/layers/wrappers/#bidirectional) 층을 사용하여 양방향 RNN을 만듭니다. \n",
    "\n",
    "- 이 클래스는 첫 번째 매개변수로 순환 층의 객체를 전달받습니다. \n",
    "\n",
    "- `Bidirectional` 클래스는 전달받은 순환 층으로 새로운 두 번째 객체를 만듭니다. \n",
    "\n",
    "- 하나는 시간 순서대로 입력 시퀀스를 처리하고 다른 하나는 반대 순서로 입력 시퀀스를 처리합니다. \n",
    "\n",
    "IMDB 감성 분석 문제에 이를 적용해 보죠:"
   ]
  },
  {
   "cell_type": "code",
   "execution_count": 15,
   "metadata": {},
   "outputs": [
    {
     "name": "stdout",
     "output_type": "stream",
     "text": [
      "_________________________________________________________________\n",
      "Layer (type)                 Output Shape              Param #   \n",
      "=================================================================\n",
      "embedding_1 (Embedding)      (None, None, 32)          320000    \n",
      "_________________________________________________________________\n",
      "bidirectional_1 (Bidirection (None, 64)                16640     \n",
      "_________________________________________________________________\n",
      "dense_1 (Dense)              (None, 1)                 65        \n",
      "=================================================================\n",
      "Total params: 336,705\n",
      "Trainable params: 336,705\n",
      "Non-trainable params: 0\n",
      "_________________________________________________________________\n",
      "Train on 20000 samples, validate on 5000 samples\n",
      "Epoch 1/10\n",
      "20000/20000 [==============================] - 101s 5ms/step - loss: 0.5609 - acc: 0.7162 - val_loss: 0.4003 - val_acc: 0.8404\n",
      "Epoch 2/10\n",
      "20000/20000 [==============================] - 100s 5ms/step - loss: 0.3285 - acc: 0.8740 - val_loss: 0.3192 - val_acc: 0.8856\n",
      "Epoch 3/10\n",
      "20000/20000 [==============================] - 100s 5ms/step - loss: 0.2642 - acc: 0.9026 - val_loss: 0.5006 - val_acc: 0.8592\n",
      "Epoch 4/10\n",
      "20000/20000 [==============================] - 99s 5ms/step - loss: 0.2253 - acc: 0.9198 - val_loss: 0.3010 - val_acc: 0.8844\n",
      "Epoch 5/10\n",
      "20000/20000 [==============================] - 99s 5ms/step - loss: 0.2072 - acc: 0.9268 - val_loss: 0.3541 - val_acc: 0.8834\n",
      "Epoch 6/10\n",
      "20000/20000 [==============================] - 99s 5ms/step - loss: 0.1836 - acc: 0.9370 - val_loss: 0.3862 - val_acc: 0.8754\n",
      "Epoch 7/10\n",
      "20000/20000 [==============================] - 98s 5ms/step - loss: 0.1712 - acc: 0.9403 - val_loss: 0.3818 - val_acc: 0.8816\n",
      "Epoch 8/10\n",
      "20000/20000 [==============================] - 98s 5ms/step - loss: 0.1566 - acc: 0.9476 - val_loss: 0.5140 - val_acc: 0.8104\n",
      "Epoch 9/10\n",
      "20000/20000 [==============================] - 98s 5ms/step - loss: 0.1435 - acc: 0.9498 - val_loss: 0.4125 - val_acc: 0.8410\n",
      "Epoch 10/10\n",
      "20000/20000 [==============================] - 98s 5ms/step - loss: 0.1312 - acc: 0.9561 - val_loss: 0.3673 - val_acc: 0.8728\n"
     ]
    }
   ],
   "source": [
    "from keras import backend as K\n",
    "K.clear_session()\n",
    "\n",
    "model = Sequential()\n",
    "model.add(layers.Embedding(max_features, 32))\n",
    "model.add(layers.Bidirectional(layers.LSTM(32)))\n",
    "model.add(layers.Dense(1, activation='sigmoid'))\n",
    "model.summary()\n",
    "\n",
    "model.compile(optimizer='rmsprop', loss='binary_crossentropy', metrics=['acc'])\n",
    "history = model.fit(x_train, y_train, epochs=10, batch_size=128, validation_split=0.2)"
   ]
  },
  {
   "cell_type": "markdown",
   "metadata": {},
   "source": [
    " "
   ]
  },
  {
   "cell_type": "markdown",
   "metadata": {},
   "source": [
    "여기서 얻은 검증 정확도는 88% 정도로 이전 절에서 사용했던 일반 LSTM보다 조금 더 성능이 높습니다. 이 모델은 조금 더 일찍 과대적합되는 것 같습니다. 양방향 순환 층이 단방향 LSTM보다 모델 파라미터가 두 배 많기 때문에 놀라운 일은 아닙니다. 규제를 조금 추가한다면 양항뱡 순환 층을 사용하는 것이 이 작업에 더 적합해 보입니다.\n",
    "\n",
    "이제 동일한 방식을 온도 예측 문제에 적용해 보죠:"
   ]
  },
  {
   "cell_type": "markdown",
   "metadata": {},
   "source": [
    " "
   ]
  },
  {
   "cell_type": "markdown",
   "metadata": {},
   "source": [
    "#### 케라스의 `Bidirectional` 레이어를 이용해 학습시키기 - 온도"
   ]
  },
  {
   "cell_type": "code",
   "execution_count": 17,
   "metadata": {},
   "outputs": [
    {
     "name": "stdout",
     "output_type": "stream",
     "text": [
      "_________________________________________________________________\n",
      "Layer (type)                 Output Shape              Param #   \n",
      "=================================================================\n",
      "bidirectional_3 (Bidirection (None, 64)                9024      \n",
      "_________________________________________________________________\n",
      "dense_3 (Dense)              (None, 1)                 65        \n",
      "=================================================================\n",
      "Total params: 9,089\n",
      "Trainable params: 9,089\n",
      "Non-trainable params: 0\n",
      "_________________________________________________________________\n",
      "Epoch 1/20\n",
      "500/500 [==============================] - 145s 290ms/step - loss: 0.2911 - val_loss: 0.2698\n",
      "Epoch 2/20\n",
      "500/500 [==============================] - 144s 288ms/step - loss: 0.2734 - val_loss: 0.2688\n",
      "Epoch 3/20\n",
      "500/500 [==============================] - 144s 288ms/step - loss: 0.2663 - val_loss: 0.2656\n",
      "Epoch 4/20\n",
      "500/500 [==============================] - 144s 289ms/step - loss: 0.2604 - val_loss: 0.2713\n",
      "Epoch 5/20\n",
      "500/500 [==============================] - 144s 288ms/step - loss: 0.2514 - val_loss: 0.2656\n",
      "Epoch 6/20\n",
      "500/500 [==============================] - 144s 288ms/step - loss: 0.2462 - val_loss: 0.2766\n",
      "Epoch 7/20\n",
      "500/500 [==============================] - 144s 288ms/step - loss: 0.2415 - val_loss: 0.2797\n",
      "Epoch 8/20\n",
      "500/500 [==============================] - 144s 288ms/step - loss: 0.2361 - val_loss: 0.2858\n",
      "Epoch 9/20\n",
      "500/500 [==============================] - 144s 288ms/step - loss: 0.2308 - val_loss: 0.2864\n",
      "Epoch 10/20\n",
      "500/500 [==============================] - 144s 288ms/step - loss: 0.2244 - val_loss: 0.2865\n",
      "Epoch 11/20\n",
      "500/500 [==============================] - 144s 288ms/step - loss: 0.2201 - val_loss: 0.2934\n",
      "Epoch 12/20\n",
      "500/500 [==============================] - 144s 288ms/step - loss: 0.2124 - val_loss: 0.2968\n",
      "Epoch 13/20\n",
      "500/500 [==============================] - 144s 288ms/step - loss: 0.2086 - val_loss: 0.2944\n",
      "Epoch 14/20\n",
      "500/500 [==============================] - 144s 289ms/step - loss: 0.2038 - val_loss: 0.3047\n",
      "Epoch 15/20\n",
      "500/500 [==============================] - 144s 288ms/step - loss: 0.2000 - val_loss: 0.3062\n",
      "Epoch 16/20\n",
      "500/500 [==============================] - 144s 288ms/step - loss: 0.1955 - val_loss: 0.3028\n",
      "Epoch 17/20\n",
      "500/500 [==============================] - 144s 287ms/step - loss: 0.1917 - val_loss: 0.3101\n",
      "Epoch 18/20\n",
      "500/500 [==============================] - 144s 288ms/step - loss: 0.1890 - val_loss: 0.3084\n",
      "Epoch 19/20\n",
      "500/500 [==============================] - 144s 288ms/step - loss: 0.1849 - val_loss: 0.3202\n",
      "Epoch 20/20\n",
      "500/500 [==============================] - 144s 288ms/step - loss: 0.1805 - val_loss: 0.3112\n"
     ]
    }
   ],
   "source": [
    "from keras.models import Sequential\n",
    "from keras import layers\n",
    "from keras.optimizers import RMSprop\n",
    "\n",
    "model = Sequential()\n",
    "model.add(layers.Bidirectional(\n",
    "    layers.GRU(32), input_shape=(None, float_data.shape[-1])))\n",
    "model.add(layers.Dense(1))\n",
    "model.summary()\n",
    "\n",
    "model.compile(optimizer=RMSprop(), loss='mae')\n",
    "history = model.fit_generator(train_gen,\n",
    "                              steps_per_epoch=500,\n",
    "                              epochs=20,\n",
    "                              validation_data=val_gen,\n",
    "                              validation_steps=val_steps)"
   ]
  },
  {
   "cell_type": "code",
   "execution_count": 18,
   "metadata": {},
   "outputs": [
    {
     "data": {
      "image/png": "[encoded data removed]",
      "text/plain": [
       "<Figure size 432x288 with 1 Axes>"
      ]
     },
     "metadata": {},
     "output_type": "display_data"
    }
   ],
   "source": [
    "loss = history.history['loss']\n",
    "val_loss = history.history['val_loss']\n",
    "\n",
    "epochs = range(1, len(loss) + 1)\n",
    "\n",
    "plt.figure()\n",
    "\n",
    "plt.plot(epochs, loss, 'bo', label='Training loss')\n",
    "plt.plot(epochs, val_loss, 'b', label='Validation loss')\n",
    "plt.title('Training and validation loss')\n",
    "plt.legend()\n",
    "\n",
    "plt.show()"
   ]
  },
  {
   "cell_type": "markdown",
   "metadata": {},
   "source": [
    "이 네트워크는 일반 GRU 층과 비슷한 성능을 냅니다. 이유는 쉽게 이해할 수 있습니다. 모든 예측 성능은 시간 순서대로 처리하는 네트워크의 절반에서 옵니다. 시간 반대 순서로 처리하는 절반은 이런 작업에 성능이 매우 좋지 않기 때문입니다(최근의 정보가 오래 전의 정보보다 훨씬 더 중요합니다)."
   ]
  },
  {
   "cell_type": "markdown",
   "metadata": {},
   "source": [
    " "
   ]
  },
  {
   "cell_type": "markdown",
   "metadata": {},
   "source": [
    "### 6.3.9 더 나아가서\n",
    "\n",
    "온도 예측 문제의 성능을 향상하기 위해 시도해 볼 수 있는 것들이 많이 있습니다.\n",
    "\n",
    "- 스태킹한 각 순환 층의 유닛 수를 조정합니다. 지금 설정은 대부분 임의로 한 것이라 최적화가 덜 되었을 것입니다.\n",
    "\n",
    "- RMSprop 옵티마이저가 사용한 학습률을 조정합니다.\n",
    "\n",
    "- GRU 대신 LSTM 층을 사용합니다.\n",
    "\n",
    "- 순환 층 위에 용량이 큰 완전 연결된 회귀 층을 사용합니다. 즉 유닛 수가 많은 Dense 층이나 Dense 층을 스태킹합니다.\n",
    "\n",
    "- 최종적으로 (검증 MAE 기준으로 봤을 때) 최선의 모델을 테스트 세트에서 확인해야 합니다. 이를 잊으면 검증 세트에 과대적합된 네트워크 구조를 만들게 될 것입니다.\n",
    "\n",
    "늘 그렇듯이 딥러닝은 과학보다는 예술에 가깝습니다. 어떤 문제에 적합하거나 그렇지 않은 가이드라인은 제시할 수 있지만 결국 모든 문제는 다릅니다. 경험을 바탕으로 다른 전략들을 시도해 봐야 합니다. 현재는 문제를 해결하는 최선의 방법을 미리 알 수 있는 이론이 없습니다. 반복해서 시도해야 합니다."
   ]
  },
  {
   "cell_type": "markdown",
   "metadata": {},
   "source": [
    " "
   ]
  },
  {
   "cell_type": "markdown",
   "metadata": {},
   "source": [
    "### 6.3.10 정리 \n",
    "\n",
    "다음은 이번 절에서 배운 것들입니다.\n",
    "\n",
    "- 4장에서 처음 배웠던 것처럼 새로운 문제를 해결할 때는 선택한 지표에서 상식 수준의 기준점을 설정하는 것이 좋습니다. 기준점을 가지고 있지 않으면 실제 향상이 되었는지 알 수 없습니다.\n",
    "\n",
    "- 계산 비용을 추가할지 판단하기 위해서 비용이 비싼 모델 전에 간단한 모델을 시도합니다.\n",
    "\n",
    "- 시간 순서가 중요한 데이터가 있다면 순환 층이 적합합니다. 시계열 데이터를 펼쳐서 처리하는 모델의 성능을 쉽게 앞지를 것입니다.\n",
    "\n",
    "- 순환 네트워크에 드롭아웃을 사용하려면 타임스텝 동안 일정한 드롭아웃 마스크와 순환 드롭아웃 마스크를 사용해야 합니다. 둘 다 케라스 순환 층에 포함되어 있습니다. 순환 층에 있는 `dropout`과 `recurrent_dropout` 매개변수를 사용하면 됩니다.\n",
    "\n",
    "- 스태킹 RNN은 단일 RNN 층보다 더 강력한 표현 능력을 제공합니다. 하지만 계산 비용이 많이 들기 때문에 항상 시도할 가치가 있지는 않습니다. (기계 번역 같은) 복잡한 문제에서 확실히 도움이 되지만 작고 간단한 문제에서는 항상 그렇지 않습니다.\n",
    "\n",
    "- 양쪽 방향으로 시퀀스를 바라보는 양방향 RNN은 자연어 처리 문제에 유용합니다. 하지만 최근의 정보가 오래된 것보다 훨씬 의미 있는 시퀀스 데이터에는 잘 작동하지 않습니다(온도 예측).\n",
    "\n",
    "여기서 자세히 다루지 않은 두 가지 중요한 개념이 있습니다. 순환 어텐션과 시퀀스 마스킹입니다. 둘 다 자연어 처리에 깊게 관련되어 있고 온도 예측 문제에는 적합하지 않습니다. 이 책을 끝내고 앞으로 공부할 목록으로 남겨 두겠습니다."
   ]
  },
  {
   "cell_type": "code",
   "execution_count": null,
   "metadata": {},
   "outputs": [],
   "source": []
  }
 ],
 "metadata": {
  "kernelspec": {
   "display_name": "tensorflow",
   "language": "python",
   "name": "tensorflow"
  },
  "language_info": {
   "codemirror_mode": {
    "name": "ipython",
    "version": 3
   },
   "file_extension": ".py",
   "mimetype": "text/x-python",
   "name": "python",
   "nbconvert_exporter": "python",
   "pygments_lexer": "ipython3",
   "version": "3.6.7"
  }
 },
 "nbformat": 4,
 "nbformat_minor": 2
}
