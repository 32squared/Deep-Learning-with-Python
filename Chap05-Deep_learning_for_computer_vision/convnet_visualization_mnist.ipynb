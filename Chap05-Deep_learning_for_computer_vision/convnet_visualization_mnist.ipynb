{
 "cells": [
  {
   "cell_type": "markdown",
   "metadata": {},
   "source": [
    "# TensorFlow를 이용해 ConvNet 각 단계 시각화하기"
   ]
  },
  {
   "cell_type": "code",
   "execution_count": 2,
   "metadata": {},
   "outputs": [],
   "source": [
    "%matplotlib inline\n",
    "import matplotlib\n",
    "import matplotlib.pyplot as plt\n",
    "plt.rcParams['axes.labelsize'] = 14\n",
    "plt.rcParams['xtick.labelsize'] = 12\n",
    "plt.rcParams['ytick.labelsize'] = 12\n",
    "\n",
    "# 한글출력\n",
    "# matplotlib.rc('font', family='AppleGothic')  # MacOS\n",
    "# matplotlib.rc('font', family='Malgun Gothic')  # Windows\n",
    "matplotlib.rc('font', family='NanumBarunGothic')  # Linux\n",
    "plt.rcParams['axes.unicode_minus'] = False"
   ]
  },
  {
   "cell_type": "code",
   "execution_count": 3,
   "metadata": {},
   "outputs": [],
   "source": [
    "import sys\n",
    "import numpy as np\n",
    "import tensorflow as tf\n",
    "\n",
    "# mini-batch function\n",
    "def shuffle_batch(features, labels, batch_size):\n",
    "    rnd_idx = np.random.permutation(len(features))\n",
    "    n_batches = len(features) // batch_size\n",
    "    for batch_idx in np.array_split(rnd_idx, n_batches):\n",
    "        batch_images, batch_labels = features[batch_idx], labels[batch_idx]\n",
    "        yield batch_images, batch_labels"
   ]
  },
  {
   "cell_type": "markdown",
   "metadata": {},
   "source": [
    "## 1. Data Load"
   ]
  },
  {
   "cell_type": "code",
   "execution_count": 4,
   "metadata": {},
   "outputs": [
    {
     "name": "stdout",
     "output_type": "stream",
     "text": [
      "train_images.shape : (60000, 28, 28, 1)\n",
      "train_labels.shape : (60000,)\n",
      "test_images.shape : (10000, 28, 28, 1)\n",
      "test_labels.shape : (10000,)\n"
     ]
    }
   ],
   "source": [
    "from keras.datasets import mnist\n",
    "\n",
    "(train_images, train_labels), (test_images, test_labels) = mnist.load_data()\n",
    "\n",
    "train_images = train_images.reshape([-1, 28, 28, 1])\n",
    "train_images = train_images.astype('float32') / 255\n",
    "\n",
    "test_images = test_images.reshape([-1, 28, 28, 1])\n",
    "test_images = test_images.astype('float32') / 255\n",
    "\n",
    "print('train_images.shape :', train_images.shape)\n",
    "print('train_labels.shape :', train_labels.shape)\n",
    "print('test_images.shape :', test_images.shape)\n",
    "print('test_labels.shape :', test_labels.shape)"
   ]
  },
  {
   "cell_type": "markdown",
   "metadata": {},
   "source": [
    " "
   ]
  },
  {
   "cell_type": "markdown",
   "metadata": {},
   "source": [
    "## 2. ConvNet"
   ]
  },
  {
   "cell_type": "markdown",
   "metadata": {},
   "source": [
    "```python\n",
    "from keras import models\n",
    "from keras import layers\n",
    "from keras import backend as K\n",
    "\n",
    "K.clear_session()\n",
    "\n",
    "model = models.Sequential(\n",
    "    [layers.Conv2D(32, [3, 3], padding='same', \n",
    "                  activation='relu', input_shape=(28, 28, 1)),\n",
    "     layers.MaxPooling2D([2, 2]),\n",
    "     layers.Conv2D(64, [3, 3], padding='same', activation='relu'), \n",
    "     layers.MaxPooling2D([2, 2]),\n",
    "     layers.Conv2D(64, [3, 3], padding='same', activation='relu'), \n",
    "     layers.Flatten(),\n",
    "     layers.Dense(64, activation='relu'),\n",
    "     layers.Dense(10, activation='softmax')]\n",
    ")\n",
    "\n",
    "model.summary()\n",
    "\n",
    "'''\n",
    "_________________________________________________________________\n",
    "Layer (type)                 Output Shape              Param #   \n",
    "=================================================================\n",
    "conv2d_1 (Conv2D)            (None, 28, 28, 32)        320       \n",
    "_________________________________________________________________\n",
    "max_pooling2d_1 (MaxPooling2 (None, 14, 14, 32)        0         \n",
    "_________________________________________________________________\n",
    "conv2d_2 (Conv2D)            (None, 14, 14, 64)        18496     \n",
    "_________________________________________________________________\n",
    "max_pooling2d_2 (MaxPooling2 (None, 7, 7, 64)          0         \n",
    "_________________________________________________________________\n",
    "conv2d_3 (Conv2D)            (None, 7, 7, 64)          36928     \n",
    "_________________________________________________________________\n",
    "flatten_1 (Flatten)          (None, 3136)              0         \n",
    "_________________________________________________________________\n",
    "dense_1 (Dense)              (None, 64)                200768    \n",
    "_________________________________________________________________\n",
    "dense_2 (Dense)              (None, 10)                650       \n",
    "=================================================================\n",
    "Total params: 257,162\n",
    "Trainable params: 257,162\n",
    "Non-trainable params: 0\n",
    "_________________________________________________________________\n",
    "'''\n",
    "```"
   ]
  },
  {
   "cell_type": "code",
   "execution_count": 5,
   "metadata": {},
   "outputs": [],
   "source": [
    "# reset graph\n",
    "tf.reset_default_graph()\n",
    "\n",
    "# placeholder\n",
    "inputs = tf.placeholder(tf.float32, shape=[None, 28, 28, 1])  # [samples, height, width, channels]\n",
    "labels = tf.placeholder(tf.int32, shape=(None, ))\n",
    "\n",
    "# Conv Net\n",
    "conv1 = tf.layers.conv2d(inputs=inputs, filters=32, kernel_size=[3, 3], \n",
    "                         padding='same', activation=tf.nn.relu)\n",
    "max_pooling2d_1 = tf.layers.max_pooling2d(inputs=conv1, pool_size=[2, 2], strides=2)\n",
    "conv2 = tf.layers.conv2d(max_pooling2d_1, 64, [3, 3], padding='same', activation=tf.nn.relu)\n",
    "max_pooling2d_2 = tf.layers.max_pooling2d(conv2, [2, 2], 2)\n",
    "conv3 = tf.layers.conv2d(max_pooling2d_2, 64, [3, 3], padding='same', activation=tf.nn.relu)\n",
    "\n",
    "# Dense\n",
    "conv3_flat = tf.layers.flatten(conv3)\n",
    "dense1 = tf.layers.dense(conv3_flat, 64, activation=tf.nn.relu)\n",
    "logits = tf.layers.dense(dense1, 10, activation=None)\n",
    "\n",
    "# loss\n",
    "cross_entropy = tf.losses.sparse_softmax_cross_entropy(labels=labels, logits=logits)\n",
    "loss = tf.reduce_mean(cross_entropy)\n",
    "# optimizer\n",
    "train_op = tf.train.RMSPropOptimizer(0.001).minimize(loss)\n",
    "\n",
    "# metrics\n",
    "correct = tf.nn.in_top_k(predictions=logits, targets=labels, k=1)\n",
    "accuracy = tf.reduce_mean(tf.cast(correct, tf.float32))"
   ]
  },
  {
   "cell_type": "markdown",
   "metadata": {},
   "source": [
    "## 3. Training"
   ]
  },
  {
   "cell_type": "code",
   "execution_count": 6,
   "metadata": {},
   "outputs": [
    {
     "name": "stdout",
     "output_type": "stream",
     "text": [
      "epoch: 1 - train_loss: 0.0122 - train_acc: 1.0000\n",
      "epoch: 2 - train_loss: 0.0009 - train_acc: 1.0000\n",
      "epoch: 3 - train_loss: 0.0002 - train_acc: 1.0000\n",
      "epoch: 4 - train_loss: 0.0005 - train_acc: 1.0000\n",
      "epoch: 5 - train_loss: 0.0003 - train_acc: 1.0000\n",
      "test_loss: 0.0428 - test_acc: 0.9889\n"
     ]
    }
   ],
   "source": [
    "# Train\n",
    "n_epochs = 5\n",
    "batch_size = 64\n",
    "\n",
    "sess = tf.Session()\n",
    "sess.run(tf.global_variables_initializer())\n",
    "n_batches = len(train_images) // batch_size\n",
    "for epoch in range(n_epochs):\n",
    "    for iteration in range(n_batches):\n",
    "        print(\"\\r{}%\".format(100 * iteration // n_batches), end=\"\")\n",
    "        sys.stdout.flush()\n",
    "        batch_images, batch_labels = next(shuffle_batch(train_images, train_labels, batch_size))\n",
    "        sess.run(train_op, feed_dict={inputs: batch_images,\n",
    "                                      labels: batch_labels})\n",
    "    train_loss, train_acc = sess.run([loss, accuracy],\n",
    "                                     feed_dict={inputs: batch_images, labels: batch_labels})\n",
    "    print('\\repoch: {} - train_loss: {:.4f} - train_acc: {:.4f}'.format(epoch+1,\n",
    "                                                                        train_loss,\n",
    "                                                                        train_acc))\n",
    "# eval\n",
    "test_loss, test_acc = sess.run([loss, accuracy],\n",
    "                               feed_dict={inputs: test_images, labels: test_labels})\n",
    "print('test_loss: {:.4f} - test_acc: {:.4f}'.format(test_loss, test_acc))"
   ]
  },
  {
   "cell_type": "markdown",
   "metadata": {},
   "source": [
    " "
   ]
  },
  {
   "cell_type": "markdown",
   "metadata": {},
   "source": [
    "## 4. Visualization"
   ]
  },
  {
   "cell_type": "code",
   "execution_count": 7,
   "metadata": {},
   "outputs": [],
   "source": [
    "out_conv1, out_maxpool1, out_conv2, out_maxpool2, out_conv3 = sess.run([conv1, max_pooling2d_1, conv2, max_pooling2d_2, conv3], \n",
    "                                                                       feed_dict={inputs: test_images[0].reshape([1, 28, 28, 1])})"
   ]
  },
  {
   "cell_type": "code",
   "execution_count": 14,
   "metadata": {},
   "outputs": [
    {
     "name": "stdout",
     "output_type": "stream",
     "text": [
      "original image shape : (1, 28, 28, 1)\n",
      "\t\t | \n",
      "\t\t | # conv1\n",
      "\t\t ↓\n",
      "conv1 shape : (1, 28, 28, 32)\n",
      "\t\t | \n",
      "\t\t | # max-pooling\n",
      "\t\t ↓\n",
      "maxpooling2d_1 shape : (1, 14, 14, 32)\n",
      "\t\t | \n",
      "\t\t | # conv2\n",
      "\t\t ↓\n",
      "conv2 shape : (1, 14, 14, 64)\n",
      "\t\t | \n",
      "\t\t | # max-pooling\n",
      "\t\t ↓\n",
      "maxpooling2d_2 shape : (1, 7, 7, 64)\n",
      "\t\t | \n",
      "\t\t | # conv3\n",
      "\t\t ↓\n",
      "conv3 shape : (1, 7, 7, 64)\n"
     ]
    }
   ],
   "source": [
    "print('original image shape :', test_images[0].reshape([1, 28, 28, 1]).shape)\n",
    "print('\\t\\t | ')\n",
    "print('\\t\\t | # conv1')\n",
    "print('\\t\\t ↓')\n",
    "print('conv1 shape :', out_conv1.shape)\n",
    "print('\\t\\t | ')\n",
    "print('\\t\\t | # max-pooling')\n",
    "print('\\t\\t ↓')\n",
    "print('maxpooling2d_1 shape :', out_maxpool1.shape)\n",
    "print('\\t\\t | ')\n",
    "print('\\t\\t | # conv2')\n",
    "print('\\t\\t ↓')\n",
    "print('conv2 shape :', out_conv2.shape)\n",
    "print('\\t\\t | ')\n",
    "print('\\t\\t | # max-pooling')\n",
    "print('\\t\\t ↓')\n",
    "print('maxpooling2d_2 shape :', out_maxpool2.shape)\n",
    "print('\\t\\t | ')\n",
    "print('\\t\\t | # conv3')\n",
    "print('\\t\\t ↓')\n",
    "print('conv3 shape :', out_conv3.shape)"
   ]
  },
  {
   "cell_type": "markdown",
   "metadata": {},
   "source": [
    " "
   ]
  },
  {
   "cell_type": "markdown",
   "metadata": {},
   "source": [
    "### 1) Original Data"
   ]
  },
  {
   "cell_type": "code",
   "execution_count": 16,
   "metadata": {},
   "outputs": [
    {
     "data": {
      "image/png": "[encoded data removed]",
      "text/plain": [
       "<Figure size 432x288 with 1 Axes>"
      ]
     },
     "metadata": {},
     "output_type": "display_data"
    }
   ],
   "source": [
    "origin_image = test_images[0].reshape([28, 28])\n",
    "plt.imshow(origin_image, cmap='gray');"
   ]
  },
  {
   "cell_type": "markdown",
   "metadata": {},
   "source": [
    " "
   ]
  },
  {
   "cell_type": "markdown",
   "metadata": {},
   "source": [
    "## 2-1) Conv1 Result"
   ]
  },
  {
   "cell_type": "code",
   "execution_count": 38,
   "metadata": {},
   "outputs": [],
   "source": [
    "viz_conv1 = out_conv1.reshape([28, 28, -1])\n",
    "viz_conv1 = viz_conv1[:, :, :5]   # filters 32개 중 앞의 5개"
   ]
  },
  {
   "cell_type": "code",
   "execution_count": 40,
   "metadata": {},
   "outputs": [
    {
     "data": {
      "image/png": "[encoded data removed]",
      "text/plain": [
       "<Figure size 1008x360 with 5 Axes>"
      ]
     },
     "metadata": {},
     "output_type": "display_data"
    }
   ],
   "source": [
    "# matplotlib으로 plotting하기\n",
    "fig, axs = plt.subplots(1, 5, figsize=(14, 5))\n",
    "pl_images = [\n",
    "    viz_conv1[:, :, 0],  # filter 0\n",
    "    viz_conv1[:, :, 1],  # filter 1\n",
    "    viz_conv1[:, :, 2],\n",
    "    viz_conv1[:, :, 3],\n",
    "    viz_conv1[:, :, 4]\n",
    "]\n",
    "\n",
    "titles = ['filter - 0', 'filter - 1', 'filter - 2', 'filter - 3', 'filter - 4']\n",
    "\n",
    "for i, (image, title) in enumerate(zip(pl_images, titles)):\n",
    "    axs[i].imshow(image, cmap='gray')\n",
    "    axs[i].set_title(title)"
   ]
  },
  {
   "cell_type": "markdown",
   "metadata": {},
   "source": [
    " "
   ]
  },
  {
   "cell_type": "markdown",
   "metadata": {},
   "source": [
    "### 2-2) Max-Pooling_1 Result"
   ]
  },
  {
   "cell_type": "code",
   "execution_count": 41,
   "metadata": {},
   "outputs": [],
   "source": [
    "viz_maxpool1 = out_maxpool1.reshape([14, 14, 32])\n",
    "viz_maxpool1 = viz_maxpool1[:, :, :5]"
   ]
  },
  {
   "cell_type": "code",
   "execution_count": 44,
   "metadata": {},
   "outputs": [
    {
     "data": {
      "image/png": "[encoded data removed]",
      "text/plain": [
       "<Figure size 1008x360 with 5 Axes>"
      ]
     },
     "metadata": {},
     "output_type": "display_data"
    }
   ],
   "source": [
    "# matplotlib으로 plotting하기\n",
    "fig, axs = plt.subplots(1, 5, figsize=(14, 5))\n",
    "pl_images = [\n",
    "    viz_maxpool1[:, :, 0],  # filter 0\n",
    "    viz_maxpool1[:, :, 1],  # filter 1\n",
    "    viz_maxpool1[:, :, 2],\n",
    "    viz_maxpool1[:, :, 3],\n",
    "    viz_maxpool1[:, :, 4]\n",
    "]\n",
    "\n",
    "titles = ['filter - 0', 'filter - 1', 'filter - 2', 'filter - 3', 'filter - 4']\n",
    "\n",
    "for i, (image, title) in enumerate(zip(pl_images, titles)):\n",
    "    axs[i].imshow(image, cmap='gray')\n",
    "    axs[i].set_title(title)"
   ]
  },
  {
   "cell_type": "markdown",
   "metadata": {},
   "source": [
    " "
   ]
  },
  {
   "cell_type": "markdown",
   "metadata": {},
   "source": [
    "### 3-1) Conv2 Result"
   ]
  },
  {
   "cell_type": "code",
   "execution_count": 46,
   "metadata": {},
   "outputs": [
    {
     "data": {
      "image/png": "[encoded data removed]",
      "text/plain": [
       "<Figure size 1008x360 with 5 Axes>"
      ]
     },
     "metadata": {},
     "output_type": "display_data"
    }
   ],
   "source": [
    "viz_conv2 = out_conv2.reshape([14, 14, -1])\n",
    "viz_conv2 = viz_conv2[:, :, :5]   # filters 32개 중 앞의 5개\n",
    "\n",
    "# matplotlib으로 plotting하기\n",
    "fig, axs = plt.subplots(1, 5, figsize=(14, 5))\n",
    "pl_images = [\n",
    "    viz_conv2[:, :, 0],  # filter 0\n",
    "    viz_conv2[:, :, 1],  # filter 1\n",
    "    viz_conv2[:, :, 2],\n",
    "    viz_conv2[:, :, 3],\n",
    "    viz_conv2[:, :, 4]\n",
    "]\n",
    "\n",
    "titles = ['filter - 0', 'filter - 1', 'filter - 2', 'filter - 3', 'filter - 4']\n",
    "\n",
    "for i, (image, title) in enumerate(zip(pl_images, titles)):\n",
    "    axs[i].imshow(image, cmap='gray')\n",
    "    axs[i].set_title(title)"
   ]
  },
  {
   "cell_type": "markdown",
   "metadata": {},
   "source": [
    " "
   ]
  },
  {
   "cell_type": "markdown",
   "metadata": {},
   "source": [
    "### 3-2) Max-Pooling2 Result"
   ]
  },
  {
   "cell_type": "code",
   "execution_count": 49,
   "metadata": {},
   "outputs": [
    {
     "data": {
      "image/png": "[encoded data removed]",
      "text/plain": [
       "<Figure size 1008x360 with 5 Axes>"
      ]
     },
     "metadata": {},
     "output_type": "display_data"
    }
   ],
   "source": [
    "viz_maxpool2 = out_maxpool2.reshape([7, 7, 64])\n",
    "viz_maxpool2 = viz_maxpool2[:, :, :5]\n",
    "\n",
    "# matplotlib으로 plotting하기\n",
    "fig, axs = plt.subplots(1, 5, figsize=(14, 5))\n",
    "pl_images = [\n",
    "    viz_maxpool2[:, :, 0],  # filter 0\n",
    "    viz_maxpool2[:, :, 1],  # filter 1\n",
    "    viz_maxpool2[:, :, 2],\n",
    "    viz_maxpool2[:, :, 3],\n",
    "    viz_maxpool2[:, :, 4]\n",
    "]\n",
    "\n",
    "titles = ['filter - 0', 'filter - 1', 'filter - 2', 'filter - 3', 'filter - 4']\n",
    "\n",
    "for i, (image, title) in enumerate(zip(pl_images, titles)):\n",
    "    axs[i].imshow(image, cmap='gray')\n",
    "    axs[i].set_title(title)"
   ]
  },
  {
   "cell_type": "markdown",
   "metadata": {},
   "source": [
    " "
   ]
  },
  {
   "cell_type": "markdown",
   "metadata": {},
   "source": [
    "### 4) Conv3 Result"
   ]
  },
  {
   "cell_type": "code",
   "execution_count": 50,
   "metadata": {},
   "outputs": [
    {
     "data": {
      "image/png": "[encoded data removed]",
      "text/plain": [
       "<Figure size 1008x360 with 5 Axes>"
      ]
     },
     "metadata": {},
     "output_type": "display_data"
    }
   ],
   "source": [
    "viz_conv3 = out_conv3.reshape([7, 7, -1])\n",
    "viz_conv3 = viz_conv3[:, :, :5]   # filters 32개 중 앞의 5개\n",
    "\n",
    "# matplotlib으로 plotting하기\n",
    "fig, axs = plt.subplots(1, 5, figsize=(14, 5))\n",
    "pl_images = [\n",
    "    viz_conv3[:, :, 0],  # filter 0\n",
    "    viz_conv3[:, :, 1],  # filter 1\n",
    "    viz_conv3[:, :, 2],\n",
    "    viz_conv3[:, :, 3],\n",
    "    viz_conv3[:, :, 4]\n",
    "]\n",
    "\n",
    "titles = ['filter - 0', 'filter - 1', 'filter - 2', 'filter - 3', 'filter - 4']\n",
    "\n",
    "for i, (image, title) in enumerate(zip(pl_images, titles)):\n",
    "    axs[i].imshow(image, cmap='gray')\n",
    "    axs[i].set_title(title)"
   ]
  },
  {
   "cell_type": "code",
   "execution_count": null,
   "metadata": {},
   "outputs": [],
   "source": []
  }
 ],
 "metadata": {
  "kernelspec": {
   "display_name": "tensorflow",
   "language": "python",
   "name": "tensorflow"
  },
  "language_info": {
   "codemirror_mode": {
    "name": "ipython",
    "version": 3
   },
   "file_extension": ".py",
   "mimetype": "text/x-python",
   "name": "python",
   "nbconvert_exporter": "python",
   "pygments_lexer": "ipython3",
   "version": "3.6.7"
  }
 },
 "nbformat": 4,
 "nbformat_minor": 2
}
